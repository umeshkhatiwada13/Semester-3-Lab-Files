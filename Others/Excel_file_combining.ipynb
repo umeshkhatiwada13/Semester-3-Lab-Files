{
 "cells": [
  {
   "cell_type": "code",
   "execution_count": 2,
   "id": "c130ea68-8148-4970-9b2d-b4eb524037a6",
   "metadata": {},
   "outputs": [
    {
     "name": "stdout",
     "output_type": "stream",
     "text": [
      "Defaulting to user installation because normal site-packages is not writeable\n",
      "Requirement already satisfied: pandas in c:\\users\\umesh\\appdata\\roaming\\python\\python311\\site-packages (2.2.2)\n",
      "Requirement already satisfied: openpyxl in c:\\programdata\\anaconda3\\lib\\site-packages (3.0.10)\n",
      "Requirement already satisfied: numpy>=1.23.2 in c:\\users\\umesh\\appdata\\roaming\\python\\python311\\site-packages (from pandas) (1.24.4)\n",
      "Requirement already satisfied: python-dateutil>=2.8.2 in c:\\users\\umesh\\appdata\\roaming\\python\\python311\\site-packages (from pandas) (2.9.0.post0)\n",
      "Requirement already satisfied: pytz>=2020.1 in c:\\users\\umesh\\appdata\\roaming\\python\\python311\\site-packages (from pandas) (2024.1)\n",
      "Requirement already satisfied: tzdata>=2022.7 in c:\\users\\umesh\\appdata\\roaming\\python\\python311\\site-packages (from pandas) (2024.1)\n",
      "Requirement already satisfied: et_xmlfile in c:\\programdata\\anaconda3\\lib\\site-packages (from openpyxl) (1.1.0)\n",
      "Requirement already satisfied: six>=1.5 in c:\\users\\umesh\\appdata\\roaming\\python\\python311\\site-packages (from python-dateutil>=2.8.2->pandas) (1.16.0)\n",
      "Note: you may need to restart the kernel to use updated packages.\n"
     ]
    }
   ],
   "source": [
    "pip install pandas openpyxl\n"
   ]
  },
  {
   "cell_type": "code",
   "execution_count": 6,
   "id": "07e9e0e0-c5af-4dd8-8fa1-4081d9c6e134",
   "metadata": {},
   "outputs": [
    {
     "name": "stdout",
     "output_type": "stream",
     "text": [
      "File ../Social-media-analytics/assignment-1/files/output_files/data_1.csv has 3794 rows.\n",
      "File ../Social-media-analytics/assignment-1/files/output_files/data_2.csv has 3537 rows.\n",
      "File ../Social-media-analytics/assignment-1/files/output_files/data_3.csv has 3471 rows.\n",
      "File ../Social-media-analytics/assignment-1/files/output_files/data_4.csv has 3236 rows.\n",
      "File ../Social-media-analytics/assignment-1/files/output_files/data_5.csv has 3335 rows.\n",
      "Total number of rows in all files: 17373\n",
      "Total number of rows in the combined file: 17373\n",
      "All files have been combined into 'final_data.csv'\n"
     ]
    }
   ],
   "source": [
    "import pandas as pd\n",
    "\n",
    "# List of CSV file paths\n",
    "file_paths = [\n",
    "    '../Social-media-analytics/assignment-1/files/output_files/data_1.csv',\n",
    "    '../Social-media-analytics/assignment-1/files/output_files/data_2.csv',\n",
    "    '../Social-media-analytics/assignment-1/files/output_files/data_3.csv',\n",
    "    '../Social-media-analytics/assignment-1/files/output_files/data_4.csv',\n",
    "    '../Social-media-analytics/assignment-1/files/output_files/data_5.csv',\n",
    "]\n",
    "\n",
    "# List to hold dataframes\n",
    "dfs = []\n",
    "row_counts = []\n",
    "\n",
    "# Read each CSV file, count the rows, and store the DataFrame in the list\n",
    "for file_path in file_paths:\n",
    "    df = pd.read_csv(file_path)\n",
    "    dfs.append(df)\n",
    "    row_count = len(df)\n",
    "    row_counts.append(row_count)\n",
    "    print(f\"File {file_path} has {row_count} rows.\")\n",
    "\n",
    "# Sum the total number of rows in all files\n",
    "total_rows = sum(row_counts)\n",
    "print(f\"Total number of rows in all files: {total_rows}\")\n",
    "\n",
    "# Concatenate all DataFrames into a single DataFrame\n",
    "combined_df = pd.concat(dfs, ignore_index=True)\n",
    "\n",
    "# Count the rows in the final combined DataFrame\n",
    "final_row_count = len(combined_df)\n",
    "print(f\"Total number of rows in the combined file: {final_row_count}\")\n",
    "\n",
    "# Write the combined DataFrame to a single CSV file\n",
    "combined_df.to_csv('../Social-media-analytics/assignment-1/files/output_files/final_data.csv', index=False)\n",
    "\n",
    "print(\"All files have been combined into 'final_data.csv'\")\n"
   ]
  }
 ],
 "metadata": {
  "kernelspec": {
   "display_name": "Python 3 (ipykernel)",
   "language": "python",
   "name": "python3"
  },
  "language_info": {
   "codemirror_mode": {
    "name": "ipython",
    "version": 3
   },
   "file_extension": ".py",
   "mimetype": "text/x-python",
   "name": "python",
   "nbconvert_exporter": "python",
   "pygments_lexer": "ipython3",
   "version": "3.11.7"
  }
 },
 "nbformat": 4,
 "nbformat_minor": 5
}
