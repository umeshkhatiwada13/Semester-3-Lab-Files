{
 "cells": [
  {
   "cell_type": "markdown",
   "id": "a4593117",
   "metadata": {},
   "source": [
    "# Matrix Operation Properties"
   ]
  },
  {
   "cell_type": "code",
   "execution_count": null,
   "id": "4da85748",
   "metadata": {
    "is_executing": true
   },
   "outputs": [],
   "source": [
    "def matrix_multiplication(matrix1, matrix2):\n",
    "# Getting the dimensions of the matrices\n",
    "    r_matrix1 = len(matrix1)\n",
    "    c_matrix1 = len(matrix1[0])\n",
    "    r_matrix2 = len(matrix2)\n",
    "    c_matrix2 = len(matrix2[0])\n",
    "    \n",
    "    if c_matrix1 != r_matrix2:\n",
    "        raise ValueError(\"Number of columns in the first matrix must be equal to the number of rows in the second matrix\")\n",
    "    # Initializing  the result matrix with zeros\n",
    "    result = [[0 for _ in range(c_matrix2)] for _ in range(r_matrix1)]\n",
    "    \n",
    "    for i in range(r_matrix1):\n",
    "        for j in range(c_matrix2):\n",
    "            for k in range(c_matrix1):\n",
    "                result[i][j] += matrix1[i][k] * matrix2[k][j]    \n",
    "    return result\n",
    "\n",
    "matrix1 = [\n",
    "    [1, 2, 3],\n",
    "    [4, 5, 6]\n",
    "]\n",
    "\n",
    "matrix2 = [\n",
    "    [7, 8],\n",
    "    [9, 10],\n",
    "    [11, 12]\n",
    "]\n",
    "\n",
    "final_result = matrix_multiplication(matrix1, matrix2)\n",
    "for final_mul in final_result:\n",
    "    print(final_mul)"
   ]
  },
  {
   "cell_type": "markdown",
   "id": "4e6429cc",
   "metadata": {},
   "source": [
    "# Proving it satisfies the matrix operation properties"
   ]
  },
  {
   "cell_type": "code",
   "execution_count": 8,
   "id": "321b40a8",
   "metadata": {},
   "outputs": [],
   "source": [
    "# first rule: matrix addition:\n",
    "def matrix_addition(matrix1,matrix2):\n",
    "    final_result = [[matrix1[i][j] + matrix2[i][j] for j in range(len(matrix1[0]))] for i in range(len(matrix1))]\n",
    "    return final_result"
   ]
  },
  {
   "cell_type": "code",
   "execution_count": 9,
   "id": "62738792",
   "metadata": {},
   "outputs": [],
   "source": [
    "#cumulative rule\n",
    "def cumulative_rule(A,B,C):\n",
    "    return matrix_multiplication(A, matrix_addition(B,C)) == matrix_addition(matrix_multiplication(A,B), matrix_multiplication(A, C))"
   ]
  },
  {
   "cell_type": "code",
   "execution_count": 3,
   "id": "0c778a48",
   "metadata": {},
   "outputs": [],
   "source": [
    "# Associative rule\n",
    "def associative_rule(A, B, C):\n",
    "    return matrix_multiplication(matrix_multiplication(A, B), C) == matrix_multiplication(A, matrix_multiplication(B, C))"
   ]
  },
  {
   "cell_type": "code",
   "execution_count": 4,
   "id": "0d0db731",
   "metadata": {},
   "outputs": [],
   "source": [
    "# distributive rule\n",
    "def distributivite_rule(A, B, C):\n",
    "    return matrix_multiplication(A, matrix_addition(B, C)) == matrix_addition(matrix_multiplication(A, B), matrix_multiplication(A, C))\n"
   ]
  },
  {
   "cell_type": "code",
   "execution_count": 5,
   "id": "acc6e0c0",
   "metadata": {},
   "outputs": [],
   "source": [
    "#non_cummulative\n",
    "def non_commulative(A, B):\n",
    "    return matrix_multiplication(A, B) != matrix_multiplication(B, A)"
   ]
  },
  {
   "cell_type": "code",
   "execution_count": 6,
   "id": "7b13a83a",
   "metadata": {},
   "outputs": [],
   "source": [
    "A = [\n",
    "    [2, 3, 4],\n",
    "    [5, 6, 7],\n",
    "    [8, 0, 9]\n",
    "]\n",
    "\n",
    "B = [\n",
    "    [2, 4, 5],\n",
    "    [7, 8, 10],\n",
    "    [11, 3, 4]\n",
    "]\n",
    "\n",
    "C = [\n",
    "    [1, 0, 1],\n",
    "    [0, 1, 0],\n",
    "    [1, 1, 1]\n",
    "]"
   ]
  },
  {
   "cell_type": "code",
   "execution_count": 10,
   "id": "42d89b79",
   "metadata": {},
   "outputs": [
    {
     "name": "stdout",
     "output_type": "stream",
     "text": [
      "Associativity (AB)C == A(BC): True\n",
      "Non-commutativity A*B != B*A: True\n",
      "Distributivity A(B + C) == AB + AC: True\n",
      "Cumulative Rule A(B + C) == AB + AC: True\n"
     ]
    }
   ],
   "source": [
    "print(\"Associativity (AB)C == A(BC):\", associative_rule(A, B, C))\n",
    "print(\"Non-commutativity A*B != B*A:\", non_commulative(A, B))\n",
    "print(\"Distributivity A(B + C) == AB + AC:\", distributivite_rule(A, B, C))\n"
   ]
  },
  {
   "cell_type": "code",
   "execution_count": null,
   "id": "2f7db852",
   "metadata": {},
   "outputs": [],
   "source": []
  }
 ],
 "metadata": {
  "kernelspec": {
   "display_name": "Python 3 (ipykernel)",
   "language": "python",
   "name": "python3"
  },
  "language_info": {
   "codemirror_mode": {
    "name": "ipython",
    "version": 3
   },
   "file_extension": ".py",
   "mimetype": "text/x-python",
   "name": "python",
   "nbconvert_exporter": "python",
   "pygments_lexer": "ipython3",
   "version": "3.9.13"
  }
 },
 "nbformat": 4,
 "nbformat_minor": 5
}
