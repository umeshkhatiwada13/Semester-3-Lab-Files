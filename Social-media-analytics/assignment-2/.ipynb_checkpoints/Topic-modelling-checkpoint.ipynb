{
 "cells": [
  {
   "cell_type": "markdown",
   "id": "d1a7b2b7-bdeb-4a6c-af08-03c2dcbe376e",
   "metadata": {},
   "source": [
    "# Model Imports"
   ]
  },
  {
   "cell_type": "code",
   "execution_count": 26,
   "id": "35f90df1-fea5-4ad9-bb4d-70cdf4264c09",
   "metadata": {},
   "outputs": [],
   "source": [
    "import pandas as pd\n",
    "import requests\n",
    "import time\n",
    "import seaborn as sns\n"
   ]
  },
  {
   "cell_type": "markdown",
   "id": "f8cdddfb-3680-4c36-84b1-8e1d42b1e74c",
   "metadata": {},
   "source": [
    "# GDELT News API Data fetching "
   ]
  },
  {
   "cell_type": "code",
   "execution_count": 27,
   "id": "38297d05-582d-432d-ae85-2339181c3255",
   "metadata": {},
   "outputs": [],
   "source": [
    "# def fetch_gdelt_context(query, max_records=200, start=0):\n",
    "#     base_url = \"https://api.gdeltproject.org/api/v2/context/context\"\n",
    "    \n",
    "#     params = {\n",
    "#         'query': query,\n",
    "#         'mode': 'artlist',\n",
    "#         'format': 'json',\n",
    "#         'maxrecords': max_records,\n",
    "#         'start': start\n",
    "#     }\n",
    "    \n",
    "#     try:\n",
    "#         response = requests.get(base_url, params=params)\n",
    "#         response.raise_for_status()  # Raise an exception for HTTP errors\n",
    "\n",
    "#         # Parse JSON response\n",
    "#         data = response.json()\n",
    "#         articles = data.get('articles', [])\n",
    "\n",
    "#         return articles\n",
    "\n",
    "#     except requests.exceptions.RequestException as e:\n",
    "#         print(f\"Error fetching articles: {e}\")\n",
    "#         return []\n",
    "\n",
    "# # List of topics to query\n",
    "# topics = [\n",
    "#     'canada'\n",
    "# ]\n",
    "\n",
    "# # number of articles to fetch\n",
    "# article_count = 100000\n",
    "\n",
    "# # Initialize DataFrame to store all articles\n",
    "# all_articles_df = pd.DataFrame()\n",
    "\n",
    "# # Fetch data for each topic\n",
    "# for topic in topics:\n",
    "#     start = 0\n",
    "#     while True:\n",
    "#         articles = fetch_gdelt_context(query=topic, max_records=200, start=start)\n",
    "#         if not articles:\n",
    "#             break  # Exit loop if no more articles are returned\n",
    "\n",
    "#         # Convert list of dictionaries to DataFrame\n",
    "#         articles_df = pd.DataFrame(articles)\n",
    "\n",
    "#         # Append to the main DataFrame\n",
    "#         all_articles_df = pd.concat([all_articles_df, articles_df], ignore_index=True)\n",
    "\n",
    "#         # Break if we reach the required number of articles\n",
    "#         if len(all_articles_df) >= article_count:\n",
    "#             break\n",
    "\n",
    "#         # Update start for next page\n",
    "#         start += 200\n",
    "\n",
    "#         print(\"Fetched total data : \",len(all_articles_df))\n",
    "\n",
    "#         # Pause to respect API rate limits\n",
    "#         time.sleep(1)\n",
    "\n",
    "#     # Check if we have reached the required number of articles\n",
    "#     if len(all_articles_df) >= article_count:\n",
    "#         break\n",
    "\n",
    "# print(f\"Fetched {len(all_articles_df)} articles.\")\n",
    "\n",
    "# # Save DataFrame to CSV file\n",
    "# all_articles_df.to_csv('data/gdelt_news_articles.csv', index=False)\n",
    "\n",
    "# # Optionally, display or further process the DataFrame\n",
    "# print(all_articles_df.head())\n"
   ]
  },
  {
   "cell_type": "markdown",
   "id": "950840f3-f378-4da5-8586-89772a57754a",
   "metadata": {},
   "source": [
    "# Data Preprocessing"
   ]
  },
  {
   "cell_type": "code",
   "execution_count": 28,
   "id": "8bd34fa6-156e-4724-b72d-23266e33441a",
   "metadata": {},
   "outputs": [],
   "source": [
    "df = pd.read_csv('data/gdelt_news_articles.csv')"
   ]
  },
  {
   "cell_type": "code",
   "execution_count": 29,
   "id": "15f98deb-c809-4ccc-87db-74f1fac2e327",
   "metadata": {},
   "outputs": [
    {
     "data": {
      "text/html": [
       "<div>\n",
       "<style scoped>\n",
       "    .dataframe tbody tr th:only-of-type {\n",
       "        vertical-align: middle;\n",
       "    }\n",
       "\n",
       "    .dataframe tbody tr th {\n",
       "        vertical-align: top;\n",
       "    }\n",
       "\n",
       "    .dataframe thead th {\n",
       "        text-align: right;\n",
       "    }\n",
       "</style>\n",
       "<table border=\"1\" class=\"dataframe\">\n",
       "  <thead>\n",
       "    <tr style=\"text-align: right;\">\n",
       "      <th></th>\n",
       "      <th>url</th>\n",
       "      <th>title</th>\n",
       "      <th>seendate</th>\n",
       "      <th>socialimage</th>\n",
       "      <th>domain</th>\n",
       "      <th>language</th>\n",
       "      <th>isquote</th>\n",
       "      <th>sentence</th>\n",
       "      <th>context</th>\n",
       "    </tr>\n",
       "  </thead>\n",
       "  <tbody>\n",
       "    <tr>\n",
       "      <th>0</th>\n",
       "      <td>https://www.theislamicmonthly.com/from-us-to-t...</td>\n",
       "      <td>From Us to Them - The Islamic Monthly</td>\n",
       "      <td>20240616T011656Z</td>\n",
       "      <td>https://www.theislamicmonthly.com/wp-content/u...</td>\n",
       "      <td>theislamicmonthly.com</td>\n",
       "      <td>ENGLISH</td>\n",
       "      <td>0</td>\n",
       "      <td>Khalid Masood of the Westminster Bridge attack...</td>\n",
       "      <td>Journalists as well as policymakers have often...</td>\n",
       "    </tr>\n",
       "    <tr>\n",
       "      <th>1</th>\n",
       "      <td>https://www.castanetkamloops.net/news/Vernon/4...</td>\n",
       "      <td>Greater Vernon Chamber of Commerce looking for...</td>\n",
       "      <td>20240616T011645Z</td>\n",
       "      <td>https://www.castanet.net/content/2024/6/img_66...</td>\n",
       "      <td>castanetkamloops.net</td>\n",
       "      <td>ENGLISH</td>\n",
       "      <td>0</td>\n",
       "      <td>and Canada.</td>\n",
       "      <td>· Awareness of the business and economic clima...</td>\n",
       "    </tr>\n",
       "    <tr>\n",
       "      <th>2</th>\n",
       "      <td>https://calgarysun.com/news/local-news/calgary...</td>\n",
       "      <td>Everybody has to be responsible: Calgarians co...</td>\n",
       "      <td>20240616T011644Z</td>\n",
       "      <td>NaN</td>\n",
       "      <td>calgarysun.com</td>\n",
       "      <td>ENGLISH</td>\n",
       "      <td>0</td>\n",
       "      <td>Article content The bottled water was fast dis...</td>\n",
       "      <td>Or sign-in if you have an account. Article con...</td>\n",
       "    </tr>\n",
       "    <tr>\n",
       "      <th>3</th>\n",
       "      <td>https://calgarysun.com/news/local-news/outdoor...</td>\n",
       "      <td>Part of the family: Outdoor pet food bank open...</td>\n",
       "      <td>20240616T011644Z</td>\n",
       "      <td>NaN</td>\n",
       "      <td>calgarysun.com</td>\n",
       "      <td>ENGLISH</td>\n",
       "      <td>0</td>\n",
       "      <td>Advertisement 2 Story continues below THIS CON...</td>\n",
       "      <td>Article content A local non-profit group has o...</td>\n",
       "    </tr>\n",
       "    <tr>\n",
       "      <th>4</th>\n",
       "      <td>https://dynamicbusiness.com/weekly-funding-rou...</td>\n",
       "      <td>Funding highlights: Kintsugi AI, Bailador Tech...</td>\n",
       "      <td>20240616T011643Z</td>\n",
       "      <td>https://backend.dynamicbusiness.com/wp-content...</td>\n",
       "      <td>dynamicbusiness.com</td>\n",
       "      <td>ENGLISH</td>\n",
       "      <td>0</td>\n",
       "      <td>The influx of capital will fuel Kintsugi AI's ...</td>\n",
       "      <td>Link Ventures spearheaded the series A funding...</td>\n",
       "    </tr>\n",
       "  </tbody>\n",
       "</table>\n",
       "</div>"
      ],
      "text/plain": [
       "                                                 url  \\\n",
       "0  https://www.theislamicmonthly.com/from-us-to-t...   \n",
       "1  https://www.castanetkamloops.net/news/Vernon/4...   \n",
       "2  https://calgarysun.com/news/local-news/calgary...   \n",
       "3  https://calgarysun.com/news/local-news/outdoor...   \n",
       "4  https://dynamicbusiness.com/weekly-funding-rou...   \n",
       "\n",
       "                                               title          seendate  \\\n",
       "0              From Us to Them - The Islamic Monthly  20240616T011656Z   \n",
       "1  Greater Vernon Chamber of Commerce looking for...  20240616T011645Z   \n",
       "2  Everybody has to be responsible: Calgarians co...  20240616T011644Z   \n",
       "3  Part of the family: Outdoor pet food bank open...  20240616T011644Z   \n",
       "4  Funding highlights: Kintsugi AI, Bailador Tech...  20240616T011643Z   \n",
       "\n",
       "                                         socialimage                 domain  \\\n",
       "0  https://www.theislamicmonthly.com/wp-content/u...  theislamicmonthly.com   \n",
       "1  https://www.castanet.net/content/2024/6/img_66...   castanetkamloops.net   \n",
       "2                                                NaN         calgarysun.com   \n",
       "3                                                NaN         calgarysun.com   \n",
       "4  https://backend.dynamicbusiness.com/wp-content...    dynamicbusiness.com   \n",
       "\n",
       "  language  isquote                                           sentence  \\\n",
       "0  ENGLISH        0  Khalid Masood of the Westminster Bridge attack...   \n",
       "1  ENGLISH        0                                        and Canada.   \n",
       "2  ENGLISH        0  Article content The bottled water was fast dis...   \n",
       "3  ENGLISH        0  Advertisement 2 Story continues below THIS CON...   \n",
       "4  ENGLISH        0  The influx of capital will fuel Kintsugi AI's ...   \n",
       "\n",
       "                                             context  \n",
       "0  Journalists as well as policymakers have often...  \n",
       "1  · Awareness of the business and economic clima...  \n",
       "2  Or sign-in if you have an account. Article con...  \n",
       "3  Article content A local non-profit group has o...  \n",
       "4  Link Ventures spearheaded the series A funding...  "
      ]
     },
     "execution_count": 29,
     "metadata": {},
     "output_type": "execute_result"
    }
   ],
   "source": [
    "df.head()"
   ]
  },
  {
   "cell_type": "code",
   "execution_count": 30,
   "id": "31f7ba7f-9489-46f0-990d-13bffba3db35",
   "metadata": {},
   "outputs": [
    {
     "data": {
      "text/plain": [
       "(20094, 9)"
      ]
     },
     "execution_count": 30,
     "metadata": {},
     "output_type": "execute_result"
    }
   ],
   "source": [
    "df.shape"
   ]
  },
  {
   "cell_type": "code",
   "execution_count": 31,
   "id": "10646d08-17fb-40e9-a3c0-c34188ca39d1",
   "metadata": {},
   "outputs": [],
   "source": [
    "# selecting news only in English Languge\n",
    "df = df[df['language'] == 'ENGLISH']"
   ]
  },
  {
   "cell_type": "code",
   "execution_count": 32,
   "id": "0ce32c5a-73b3-4bed-8114-41c5bcd5d624",
   "metadata": {},
   "outputs": [],
   "source": [
    "# using title only for topic modelling\n",
    "df_new = df['title']"
   ]
  },
  {
   "cell_type": "code",
   "execution_count": 33,
   "id": "988acd6e-879d-4fb6-9865-38d9f48f730e",
   "metadata": {},
   "outputs": [
    {
     "data": {
      "text/plain": [
       "0                From Us to Them - The Islamic Monthly\n",
       "1    Greater Vernon Chamber of Commerce looking for...\n",
       "2    Everybody has to be responsible: Calgarians co...\n",
       "3    Part of the family: Outdoor pet food bank open...\n",
       "4    Funding highlights: Kintsugi AI, Bailador Tech...\n",
       "Name: title, dtype: object"
      ]
     },
     "execution_count": 33,
     "metadata": {},
     "output_type": "execute_result"
    }
   ],
   "source": [
    "df_new.head()"
   ]
  },
  {
   "cell_type": "code",
   "execution_count": 34,
   "id": "1b00b898-f6b3-428f-820e-63d25d92b0a6",
   "metadata": {},
   "outputs": [
    {
     "data": {
      "text/plain": [
       "(20094,)"
      ]
     },
     "execution_count": 34,
     "metadata": {},
     "output_type": "execute_result"
    }
   ],
   "source": [
    "df_new.shape"
   ]
  },
  {
   "cell_type": "markdown",
   "id": "9b5be43b-a087-4874-ab28-c29d8b7a2c9f",
   "metadata": {},
   "source": [
    "# Text preprocessing"
   ]
  },
  {
   "cell_type": "code",
   "execution_count": 35,
   "id": "b86ff8ab-fa39-4e14-8f0e-1d38b952ccd1",
   "metadata": {},
   "outputs": [
    {
     "name": "stderr",
     "output_type": "stream",
     "text": [
      "[nltk_data] Downloading package punkt to\n",
      "[nltk_data]     C:\\Users\\umesh\\AppData\\Roaming\\nltk_data...\n",
      "[nltk_data]   Package punkt is already up-to-date!\n",
      "[nltk_data] Downloading package stopwords to\n",
      "[nltk_data]     C:\\Users\\umesh\\AppData\\Roaming\\nltk_data...\n",
      "[nltk_data]   Package stopwords is already up-to-date!\n",
      "[nltk_data] Downloading package averaged_perceptron_tagger to\n",
      "[nltk_data]     C:\\Users\\umesh\\AppData\\Roaming\\nltk_data...\n",
      "[nltk_data]   Package averaged_perceptron_tagger is already up-to-\n",
      "[nltk_data]       date!\n",
      "[nltk_data] Downloading package wordnet to\n",
      "[nltk_data]     C:\\Users\\umesh\\AppData\\Roaming\\nltk_data...\n",
      "[nltk_data]   Package wordnet is already up-to-date!\n"
     ]
    },
    {
     "data": {
      "text/plain": [
       "True"
      ]
     },
     "execution_count": 35,
     "metadata": {},
     "output_type": "execute_result"
    }
   ],
   "source": [
    "# imports for Text preprocessing\n",
    "import nltk\n",
    "import gensim\n",
    "from gensim import corpora\n",
    "from nltk.corpus import wordnet\n",
    "from nltk.stem import WordNetLemmatizer\n",
    "from nltk.tokenize import word_tokenize\n",
    "from nltk.corpus import stopwords\n",
    "import re\n",
    "\n",
    "# Download NLTK resources if not already downloaded\n",
    "nltk.download('punkt')\n",
    "nltk.download('stopwords')\n",
    "nltk.download('averaged_perceptron_tagger')\n",
    "nltk.download('wordnet')"
   ]
  },
  {
   "cell_type": "code",
   "execution_count": 36,
   "id": "33a61030-2386-46c4-8cb5-931dd8501fe1",
   "metadata": {},
   "outputs": [
    {
     "ename": "KeyboardInterrupt",
     "evalue": "",
     "output_type": "error",
     "traceback": [
      "\u001b[1;31m---------------------------------------------------------------------------\u001b[0m",
      "\u001b[1;31mKeyboardInterrupt\u001b[0m                         Traceback (most recent call last)",
      "Cell \u001b[1;32mIn[36], line 29\u001b[0m\n\u001b[0;32m     26\u001b[0m     \u001b[38;5;28;01mreturn\u001b[39;00m words\n\u001b[0;32m     28\u001b[0m \u001b[38;5;66;03m# Apply preprocessing to the 'sentence' column\u001b[39;00m\n\u001b[1;32m---> 29\u001b[0m df[\u001b[38;5;124m'\u001b[39m\u001b[38;5;124mcleaned_sentence\u001b[39m\u001b[38;5;124m'\u001b[39m] \u001b[38;5;241m=\u001b[39m df[\u001b[38;5;124m'\u001b[39m\u001b[38;5;124msentence\u001b[39m\u001b[38;5;124m'\u001b[39m]\u001b[38;5;241m.\u001b[39mapply(preprocess_text)\n\u001b[0;32m     31\u001b[0m \u001b[38;5;66;03m# Prepare for LDA\u001b[39;00m\n\u001b[0;32m     32\u001b[0m texts \u001b[38;5;241m=\u001b[39m df[\u001b[38;5;124m'\u001b[39m\u001b[38;5;124mcleaned_sentence\u001b[39m\u001b[38;5;124m'\u001b[39m]\u001b[38;5;241m.\u001b[39mtolist()\n",
      "File \u001b[1;32m~\\AppData\\Roaming\\Python\\Python311\\site-packages\\pandas\\core\\series.py:4924\u001b[0m, in \u001b[0;36mSeries.apply\u001b[1;34m(self, func, convert_dtype, args, by_row, **kwargs)\u001b[0m\n\u001b[0;32m   4789\u001b[0m \u001b[38;5;28;01mdef\u001b[39;00m \u001b[38;5;21mapply\u001b[39m(\n\u001b[0;32m   4790\u001b[0m     \u001b[38;5;28mself\u001b[39m,\n\u001b[0;32m   4791\u001b[0m     func: AggFuncType,\n\u001b[1;32m   (...)\u001b[0m\n\u001b[0;32m   4796\u001b[0m     \u001b[38;5;241m*\u001b[39m\u001b[38;5;241m*\u001b[39mkwargs,\n\u001b[0;32m   4797\u001b[0m ) \u001b[38;5;241m-\u001b[39m\u001b[38;5;241m>\u001b[39m DataFrame \u001b[38;5;241m|\u001b[39m Series:\n\u001b[0;32m   4798\u001b[0m \u001b[38;5;250m    \u001b[39m\u001b[38;5;124;03m\"\"\"\u001b[39;00m\n\u001b[0;32m   4799\u001b[0m \u001b[38;5;124;03m    Invoke function on values of Series.\u001b[39;00m\n\u001b[0;32m   4800\u001b[0m \n\u001b[1;32m   (...)\u001b[0m\n\u001b[0;32m   4915\u001b[0m \u001b[38;5;124;03m    dtype: float64\u001b[39;00m\n\u001b[0;32m   4916\u001b[0m \u001b[38;5;124;03m    \"\"\"\u001b[39;00m\n\u001b[0;32m   4917\u001b[0m     \u001b[38;5;28;01mreturn\u001b[39;00m SeriesApply(\n\u001b[0;32m   4918\u001b[0m         \u001b[38;5;28mself\u001b[39m,\n\u001b[0;32m   4919\u001b[0m         func,\n\u001b[0;32m   4920\u001b[0m         convert_dtype\u001b[38;5;241m=\u001b[39mconvert_dtype,\n\u001b[0;32m   4921\u001b[0m         by_row\u001b[38;5;241m=\u001b[39mby_row,\n\u001b[0;32m   4922\u001b[0m         args\u001b[38;5;241m=\u001b[39margs,\n\u001b[0;32m   4923\u001b[0m         kwargs\u001b[38;5;241m=\u001b[39mkwargs,\n\u001b[1;32m-> 4924\u001b[0m     )\u001b[38;5;241m.\u001b[39mapply()\n",
      "File \u001b[1;32m~\\AppData\\Roaming\\Python\\Python311\\site-packages\\pandas\\core\\apply.py:1427\u001b[0m, in \u001b[0;36mSeriesApply.apply\u001b[1;34m(self)\u001b[0m\n\u001b[0;32m   1424\u001b[0m     \u001b[38;5;28;01mreturn\u001b[39;00m \u001b[38;5;28mself\u001b[39m\u001b[38;5;241m.\u001b[39mapply_compat()\n\u001b[0;32m   1426\u001b[0m \u001b[38;5;66;03m# self.func is Callable\u001b[39;00m\n\u001b[1;32m-> 1427\u001b[0m \u001b[38;5;28;01mreturn\u001b[39;00m \u001b[38;5;28mself\u001b[39m\u001b[38;5;241m.\u001b[39mapply_standard()\n",
      "File \u001b[1;32m~\\AppData\\Roaming\\Python\\Python311\\site-packages\\pandas\\core\\apply.py:1507\u001b[0m, in \u001b[0;36mSeriesApply.apply_standard\u001b[1;34m(self)\u001b[0m\n\u001b[0;32m   1501\u001b[0m \u001b[38;5;66;03m# row-wise access\u001b[39;00m\n\u001b[0;32m   1502\u001b[0m \u001b[38;5;66;03m# apply doesn't have a `na_action` keyword and for backward compat reasons\u001b[39;00m\n\u001b[0;32m   1503\u001b[0m \u001b[38;5;66;03m# we need to give `na_action=\"ignore\"` for categorical data.\u001b[39;00m\n\u001b[0;32m   1504\u001b[0m \u001b[38;5;66;03m# TODO: remove the `na_action=\"ignore\"` when that default has been changed in\u001b[39;00m\n\u001b[0;32m   1505\u001b[0m \u001b[38;5;66;03m#  Categorical (GH51645).\u001b[39;00m\n\u001b[0;32m   1506\u001b[0m action \u001b[38;5;241m=\u001b[39m \u001b[38;5;124m\"\u001b[39m\u001b[38;5;124mignore\u001b[39m\u001b[38;5;124m\"\u001b[39m \u001b[38;5;28;01mif\u001b[39;00m \u001b[38;5;28misinstance\u001b[39m(obj\u001b[38;5;241m.\u001b[39mdtype, CategoricalDtype) \u001b[38;5;28;01melse\u001b[39;00m \u001b[38;5;28;01mNone\u001b[39;00m\n\u001b[1;32m-> 1507\u001b[0m mapped \u001b[38;5;241m=\u001b[39m obj\u001b[38;5;241m.\u001b[39m_map_values(\n\u001b[0;32m   1508\u001b[0m     mapper\u001b[38;5;241m=\u001b[39mcurried, na_action\u001b[38;5;241m=\u001b[39maction, convert\u001b[38;5;241m=\u001b[39m\u001b[38;5;28mself\u001b[39m\u001b[38;5;241m.\u001b[39mconvert_dtype\n\u001b[0;32m   1509\u001b[0m )\n\u001b[0;32m   1511\u001b[0m \u001b[38;5;28;01mif\u001b[39;00m \u001b[38;5;28mlen\u001b[39m(mapped) \u001b[38;5;129;01mand\u001b[39;00m \u001b[38;5;28misinstance\u001b[39m(mapped[\u001b[38;5;241m0\u001b[39m], ABCSeries):\n\u001b[0;32m   1512\u001b[0m     \u001b[38;5;66;03m# GH#43986 Need to do list(mapped) in order to get treated as nested\u001b[39;00m\n\u001b[0;32m   1513\u001b[0m     \u001b[38;5;66;03m#  See also GH#25959 regarding EA support\u001b[39;00m\n\u001b[0;32m   1514\u001b[0m     \u001b[38;5;28;01mreturn\u001b[39;00m obj\u001b[38;5;241m.\u001b[39m_constructor_expanddim(\u001b[38;5;28mlist\u001b[39m(mapped), index\u001b[38;5;241m=\u001b[39mobj\u001b[38;5;241m.\u001b[39mindex)\n",
      "File \u001b[1;32m~\\AppData\\Roaming\\Python\\Python311\\site-packages\\pandas\\core\\base.py:921\u001b[0m, in \u001b[0;36mIndexOpsMixin._map_values\u001b[1;34m(self, mapper, na_action, convert)\u001b[0m\n\u001b[0;32m    918\u001b[0m \u001b[38;5;28;01mif\u001b[39;00m \u001b[38;5;28misinstance\u001b[39m(arr, ExtensionArray):\n\u001b[0;32m    919\u001b[0m     \u001b[38;5;28;01mreturn\u001b[39;00m arr\u001b[38;5;241m.\u001b[39mmap(mapper, na_action\u001b[38;5;241m=\u001b[39mna_action)\n\u001b[1;32m--> 921\u001b[0m \u001b[38;5;28;01mreturn\u001b[39;00m algorithms\u001b[38;5;241m.\u001b[39mmap_array(arr, mapper, na_action\u001b[38;5;241m=\u001b[39mna_action, convert\u001b[38;5;241m=\u001b[39mconvert)\n",
      "File \u001b[1;32m~\\AppData\\Roaming\\Python\\Python311\\site-packages\\pandas\\core\\algorithms.py:1743\u001b[0m, in \u001b[0;36mmap_array\u001b[1;34m(arr, mapper, na_action, convert)\u001b[0m\n\u001b[0;32m   1741\u001b[0m values \u001b[38;5;241m=\u001b[39m arr\u001b[38;5;241m.\u001b[39mastype(\u001b[38;5;28mobject\u001b[39m, copy\u001b[38;5;241m=\u001b[39m\u001b[38;5;28;01mFalse\u001b[39;00m)\n\u001b[0;32m   1742\u001b[0m \u001b[38;5;28;01mif\u001b[39;00m na_action \u001b[38;5;129;01mis\u001b[39;00m \u001b[38;5;28;01mNone\u001b[39;00m:\n\u001b[1;32m-> 1743\u001b[0m     \u001b[38;5;28;01mreturn\u001b[39;00m lib\u001b[38;5;241m.\u001b[39mmap_infer(values, mapper, convert\u001b[38;5;241m=\u001b[39mconvert)\n\u001b[0;32m   1744\u001b[0m \u001b[38;5;28;01melse\u001b[39;00m:\n\u001b[0;32m   1745\u001b[0m     \u001b[38;5;28;01mreturn\u001b[39;00m lib\u001b[38;5;241m.\u001b[39mmap_infer_mask(\n\u001b[0;32m   1746\u001b[0m         values, mapper, mask\u001b[38;5;241m=\u001b[39misna(values)\u001b[38;5;241m.\u001b[39mview(np\u001b[38;5;241m.\u001b[39muint8), convert\u001b[38;5;241m=\u001b[39mconvert\n\u001b[0;32m   1747\u001b[0m     )\n",
      "File \u001b[1;32mlib.pyx:2972\u001b[0m, in \u001b[0;36mpandas._libs.lib.map_infer\u001b[1;34m()\u001b[0m\n",
      "Cell \u001b[1;32mIn[36], line 25\u001b[0m, in \u001b[0;36mpreprocess_text\u001b[1;34m(text)\u001b[0m\n\u001b[0;32m     23\u001b[0m \u001b[38;5;66;03m# Lemmatize\u001b[39;00m\n\u001b[0;32m     24\u001b[0m lemmatizer \u001b[38;5;241m=\u001b[39m WordNetLemmatizer()\n\u001b[1;32m---> 25\u001b[0m words \u001b[38;5;241m=\u001b[39m [lemmatizer\u001b[38;5;241m.\u001b[39mlemmatize(word, get_wordnet_pos(word)) \u001b[38;5;28;01mfor\u001b[39;00m word \u001b[38;5;129;01min\u001b[39;00m words]\n\u001b[0;32m     26\u001b[0m \u001b[38;5;28;01mreturn\u001b[39;00m words\n",
      "Cell \u001b[1;32mIn[36], line 25\u001b[0m, in \u001b[0;36m<listcomp>\u001b[1;34m(.0)\u001b[0m\n\u001b[0;32m     23\u001b[0m \u001b[38;5;66;03m# Lemmatize\u001b[39;00m\n\u001b[0;32m     24\u001b[0m lemmatizer \u001b[38;5;241m=\u001b[39m WordNetLemmatizer()\n\u001b[1;32m---> 25\u001b[0m words \u001b[38;5;241m=\u001b[39m [lemmatizer\u001b[38;5;241m.\u001b[39mlemmatize(word, get_wordnet_pos(word)) \u001b[38;5;28;01mfor\u001b[39;00m word \u001b[38;5;129;01min\u001b[39;00m words]\n\u001b[0;32m     26\u001b[0m \u001b[38;5;28;01mreturn\u001b[39;00m words\n",
      "Cell \u001b[1;32mIn[36], line 3\u001b[0m, in \u001b[0;36mget_wordnet_pos\u001b[1;34m(word)\u001b[0m\n\u001b[0;32m      2\u001b[0m \u001b[38;5;28;01mdef\u001b[39;00m \u001b[38;5;21mget_wordnet_pos\u001b[39m(word):\n\u001b[1;32m----> 3\u001b[0m     tag \u001b[38;5;241m=\u001b[39m nltk\u001b[38;5;241m.\u001b[39mpos_tag([word])[\u001b[38;5;241m0\u001b[39m][\u001b[38;5;241m1\u001b[39m][\u001b[38;5;241m0\u001b[39m]\u001b[38;5;241m.\u001b[39mupper()\n\u001b[0;32m      4\u001b[0m     tag_dict \u001b[38;5;241m=\u001b[39m {\u001b[38;5;124m\"\u001b[39m\u001b[38;5;124mJ\u001b[39m\u001b[38;5;124m\"\u001b[39m: wordnet\u001b[38;5;241m.\u001b[39mADJ,\n\u001b[0;32m      5\u001b[0m                 \u001b[38;5;124m\"\u001b[39m\u001b[38;5;124mN\u001b[39m\u001b[38;5;124m\"\u001b[39m: wordnet\u001b[38;5;241m.\u001b[39mNOUN,\n\u001b[0;32m      6\u001b[0m                 \u001b[38;5;124m\"\u001b[39m\u001b[38;5;124mV\u001b[39m\u001b[38;5;124m\"\u001b[39m: wordnet\u001b[38;5;241m.\u001b[39mVERB,\n\u001b[0;32m      7\u001b[0m                 \u001b[38;5;124m\"\u001b[39m\u001b[38;5;124mR\u001b[39m\u001b[38;5;124m\"\u001b[39m: wordnet\u001b[38;5;241m.\u001b[39mADV}\n\u001b[0;32m      8\u001b[0m     \u001b[38;5;28;01mreturn\u001b[39;00m tag_dict\u001b[38;5;241m.\u001b[39mget(tag, wordnet\u001b[38;5;241m.\u001b[39mNOUN)\n",
      "File \u001b[1;32mC:\\ProgramData\\anaconda3\\Lib\\site-packages\\nltk\\tag\\__init__.py:165\u001b[0m, in \u001b[0;36mpos_tag\u001b[1;34m(tokens, tagset, lang)\u001b[0m\n\u001b[0;32m    140\u001b[0m \u001b[38;5;28;01mdef\u001b[39;00m \u001b[38;5;21mpos_tag\u001b[39m(tokens, tagset\u001b[38;5;241m=\u001b[39m\u001b[38;5;28;01mNone\u001b[39;00m, lang\u001b[38;5;241m=\u001b[39m\u001b[38;5;124m\"\u001b[39m\u001b[38;5;124meng\u001b[39m\u001b[38;5;124m\"\u001b[39m):\n\u001b[0;32m    141\u001b[0m \u001b[38;5;250m    \u001b[39m\u001b[38;5;124;03m\"\"\"\u001b[39;00m\n\u001b[0;32m    142\u001b[0m \u001b[38;5;124;03m    Use NLTK's currently recommended part of speech tagger to\u001b[39;00m\n\u001b[0;32m    143\u001b[0m \u001b[38;5;124;03m    tag the given list of tokens.\u001b[39;00m\n\u001b[1;32m   (...)\u001b[0m\n\u001b[0;32m    163\u001b[0m \u001b[38;5;124;03m    :rtype: list(tuple(str, str))\u001b[39;00m\n\u001b[0;32m    164\u001b[0m \u001b[38;5;124;03m    \"\"\"\u001b[39;00m\n\u001b[1;32m--> 165\u001b[0m     tagger \u001b[38;5;241m=\u001b[39m _get_tagger(lang)\n\u001b[0;32m    166\u001b[0m     \u001b[38;5;28;01mreturn\u001b[39;00m _pos_tag(tokens, tagset, tagger, lang)\n",
      "File \u001b[1;32mC:\\ProgramData\\anaconda3\\Lib\\site-packages\\nltk\\tag\\__init__.py:107\u001b[0m, in \u001b[0;36m_get_tagger\u001b[1;34m(lang)\u001b[0m\n\u001b[0;32m    105\u001b[0m     tagger\u001b[38;5;241m.\u001b[39mload(ap_russian_model_loc)\n\u001b[0;32m    106\u001b[0m \u001b[38;5;28;01melse\u001b[39;00m:\n\u001b[1;32m--> 107\u001b[0m     tagger \u001b[38;5;241m=\u001b[39m PerceptronTagger()\n\u001b[0;32m    108\u001b[0m \u001b[38;5;28;01mreturn\u001b[39;00m tagger\n",
      "File \u001b[1;32mC:\\ProgramData\\anaconda3\\Lib\\site-packages\\nltk\\tag\\perceptron.py:167\u001b[0m, in \u001b[0;36mPerceptronTagger.__init__\u001b[1;34m(self, load)\u001b[0m\n\u001b[0;32m    164\u001b[0m \u001b[38;5;28mself\u001b[39m\u001b[38;5;241m.\u001b[39mclasses \u001b[38;5;241m=\u001b[39m \u001b[38;5;28mset\u001b[39m()\n\u001b[0;32m    165\u001b[0m \u001b[38;5;28;01mif\u001b[39;00m load:\n\u001b[0;32m    166\u001b[0m     AP_MODEL_LOC \u001b[38;5;241m=\u001b[39m \u001b[38;5;124m\"\u001b[39m\u001b[38;5;124mfile:\u001b[39m\u001b[38;5;124m\"\u001b[39m \u001b[38;5;241m+\u001b[39m \u001b[38;5;28mstr\u001b[39m(\n\u001b[1;32m--> 167\u001b[0m         find(\u001b[38;5;124m\"\u001b[39m\u001b[38;5;124mtaggers/averaged_perceptron_tagger/\u001b[39m\u001b[38;5;124m\"\u001b[39m \u001b[38;5;241m+\u001b[39m PICKLE)\n\u001b[0;32m    168\u001b[0m     )\n\u001b[0;32m    169\u001b[0m     \u001b[38;5;28mself\u001b[39m\u001b[38;5;241m.\u001b[39mload(AP_MODEL_LOC)\n",
      "File \u001b[1;32mC:\\ProgramData\\anaconda3\\Lib\\site-packages\\nltk\\data.py:530\u001b[0m, in \u001b[0;36mfind\u001b[1;34m(resource_name, paths)\u001b[0m\n\u001b[0;32m    527\u001b[0m         \u001b[38;5;28;01mcontinue\u001b[39;00m\n\u001b[0;32m    529\u001b[0m \u001b[38;5;66;03m# Is the path item a directory or is resource_name an absolute path?\u001b[39;00m\n\u001b[1;32m--> 530\u001b[0m \u001b[38;5;28;01melif\u001b[39;00m \u001b[38;5;129;01mnot\u001b[39;00m path_ \u001b[38;5;129;01mor\u001b[39;00m os\u001b[38;5;241m.\u001b[39mpath\u001b[38;5;241m.\u001b[39misdir(path_):\n\u001b[0;32m    531\u001b[0m     \u001b[38;5;28;01mif\u001b[39;00m zipfile \u001b[38;5;129;01mis\u001b[39;00m \u001b[38;5;28;01mNone\u001b[39;00m:\n\u001b[0;32m    532\u001b[0m         p \u001b[38;5;241m=\u001b[39m os\u001b[38;5;241m.\u001b[39mpath\u001b[38;5;241m.\u001b[39mjoin(path_, url2pathname(resource_name))\n",
      "File \u001b[1;32m<frozen genericpath>:39\u001b[0m, in \u001b[0;36misdir\u001b[1;34m(s)\u001b[0m\n",
      "\u001b[1;31mKeyboardInterrupt\u001b[0m: "
     ]
    }
   ],
   "source": [
    "# Function to map POS tag to first character lemmatize() accepts\n",
    "def get_wordnet_pos(word):\n",
    "    tag = nltk.pos_tag([word])[0][1][0].upper()\n",
    "    tag_dict = {\"J\": wordnet.ADJ,\n",
    "                \"N\": wordnet.NOUN,\n",
    "                \"V\": wordnet.VERB,\n",
    "                \"R\": wordnet.ADV}\n",
    "    return tag_dict.get(tag, wordnet.NOUN)  # Default to noun if not found\n",
    "\n",
    "# Text preprocessing for LDA\n",
    "def preprocess_text(text):\n",
    "    # Lowercase the text\n",
    "    text = text.lower()\n",
    "    # Remove URLs\n",
    "    text = re.sub(r'http\\S+', '', text)\n",
    "    # Remove punctuation\n",
    "    text = re.sub(r'[^\\w\\s]', '', text)\n",
    "    # Tokenize\n",
    "    words = word_tokenize(text)\n",
    "    # Remove stopwords and short words\n",
    "    stop_words = set(stopwords.words('english'))\n",
    "    words = [word for word in words if word not in stop_words and len(word) > 3]\n",
    "    # Lemmatize\n",
    "    lemmatizer = WordNetLemmatizer()\n",
    "    words = [lemmatizer.lemmatize(word, get_wordnet_pos(word)) for word in words]\n",
    "    return words\n",
    "\n",
    "# Apply preprocessing to the 'sentence' column\n",
    "df['cleaned_sentence'] = df['sentence'].apply(preprocess_text)\n",
    "\n",
    "# Prepare for LDA\n",
    "texts = df['cleaned_sentence'].tolist()\n"
   ]
  },
  {
   "cell_type": "code",
   "execution_count": null,
   "id": "67334f28-fb30-4c8c-ae88-59383c9cdb2b",
   "metadata": {},
   "outputs": [],
   "source": [
    "print(texts[:3])"
   ]
  },
  {
   "cell_type": "code",
   "execution_count": null,
   "id": "0b49b350-3e77-4ac4-be3b-5533b7db41ba",
   "metadata": {},
   "outputs": [],
   "source": [
    "# number of words after preprocessing\n",
    "print(len(texts))"
   ]
  },
  {
   "cell_type": "markdown",
   "id": "e69954cf-039a-417b-82e6-7e5370864661",
   "metadata": {},
   "source": [
    "# Topic Modelling"
   ]
  },
  {
   "cell_type": "code",
   "execution_count": null,
   "id": "3c44121a-fc1e-4d87-88ec-9bb9c2db6ca3",
   "metadata": {},
   "outputs": [],
   "source": [
    "# Create a dictionary and corpus needed for LDA\n",
    "dictionary = corpora.Dictionary(texts)\n",
    "corpus = [dictionary.doc2bow(text) for text in texts]\n",
    "\n",
    "num_topics = 5\n",
    "# Train LDA model\n",
    "init_lda_model = gensim.models.ldamodel.LdaModel(corpus, num_topics=num_topics, id2word=dictionary, passes=15)\n",
    "\n",
    "# Assign topics to documents\n",
    "topics = init_lda_model.get_document_topics(corpus)\n",
    "\n",
    "# Print the topics\n",
    "for idx, topic in init_lda_model.print_topics(-1):\n",
    "    print('Topic: {} \\nWords: {}'.format(idx, topic))"
   ]
  },
  {
   "cell_type": "markdown",
   "id": "359b1b5b-dfa4-4a92-9d13-0e4d2bd0c296",
   "metadata": {},
   "source": [
    "# Model Analysis"
   ]
  },
  {
   "cell_type": "code",
   "execution_count": null,
   "id": "e2532a63-9e2d-4446-be50-a619d181740a",
   "metadata": {},
   "outputs": [],
   "source": [
    "from gensim.models.coherencemodel import CoherenceModel\n",
    "\n",
    "# Calculate Perplexity\n",
    "perplexity = init_lda_model.log_perplexity(corpus)\n",
    "print(f'Perplexity: {perplexity}')\n",
    "\n",
    "# Calculate Coherence Score\n",
    "coherence_init_lda = CoherenceModel(model=init_lda_model, texts=texts, dictionary=dictionary, coherence='c_v')\n",
    "coherence_init = coherence_model_lda.get_coherence()\n",
    "print(f'Coherence Score of First model: {coherence_init}')\n"
   ]
  },
  {
   "cell_type": "markdown",
   "id": "7f9155de-7171-48c6-a38f-2e6f4f87ec11",
   "metadata": {},
   "source": [
    "# Model Improvement and Hyperparameter tuning"
   ]
  },
  {
   "cell_type": "code",
   "execution_count": null,
   "id": "c0cce7aa-a6d0-4624-b2df-b941e87c181e",
   "metadata": {},
   "outputs": [],
   "source": [
    "# Importing necessary libraries\n",
    "import gensim\n",
    "from gensim import corpora\n",
    "\n",
    "# Create a dictionary and corpus needed for LDA\n",
    "dictionary = corpora.Dictionary(texts)\n",
    "corpus = [dictionary.doc2bow(text) for text in texts]\n",
    "\n",
    "# Experimenting with different number of topics and passes\n",
    "num_topics = [5, 10, 15]  # Different numbers of topics to try\n",
    "passes = [10,20,30,40]  # Increase the number of passes\n",
    "\n",
    "best_coherence = 0\n",
    "best_model = None\n",
    "best_num_topic = 0\n",
    "for ps in passes:\n",
    "    print(\"Passes : \", ps)\n",
    "    for num in num_topics:\n",
    "        # Train LDA model\n",
    "        lda_model = gensim.models.ldamodel.LdaModel(corpus, num_topics=num, id2word=dictionary, passes=ps, random_state=42)\n",
    "        \n",
    "        # Calculate Coherence Score\n",
    "        coherence_model_lda = CoherenceModel(model=lda_model, texts=texts, dictionary=dictionary, coherence='c_v')\n",
    "        coherence_lda = coherence_model_lda.get_coherence()\n",
    "        \n",
    "        print(f'Number of Topics: {num} \\tCoherence Score: {coherence_lda}')\n",
    "        \n",
    "        if coherence_lda > best_coherence:\n",
    "            print(\"Best Coherence :\",coherence_lda)\n",
    "            best_coherence = coherence_lda\n",
    "            best_model = lda_model\n",
    "            best_num_topic = ps\n",
    "\n",
    "# Print the best model's topics\n",
    "for idx, topic in best_model.print_topics(-1):\n",
    "    print(f'Topic: {idx} \\nWords: {topic}')\n"
   ]
  },
  {
   "cell_type": "code",
   "execution_count": null,
   "id": "4b0abc72-c6d2-4634-82e2-b3728b606e8f",
   "metadata": {},
   "outputs": [],
   "source": [
    "# Model Comparision"
   ]
  },
  {
   "cell_type": "code",
   "execution_count": null,
   "id": "6ade669b-0e0d-4093-9669-ac419ba8b4bb",
   "metadata": {},
   "outputs": [],
   "source": [
    "import pandas as pd\n",
    "import matplotlib.pyplot as plt\n",
    "\n",
    "# Example coherence scores for different numbers of topics\n",
    "# Replace these with your actual coherence scores\n",
    "base_model_coherence = {\n",
    "    'num_topics': [num_topics],\n",
    "    'coherence': [coherence_init_lda]\n",
    "}\n",
    "\n",
    "tuned_model_coherence = {\n",
    "    'num_topics': [best_num_topic],\n",
    "    'coherence': [best_coherence]\n",
    "}\n",
    "\n",
    "# Create DataFrames for the coherence scores\n",
    "base_df = pd.DataFrame(base_model_coherence)\n",
    "tuned_df = pd.DataFrame(tuned_model_coherence)\n",
    "\n",
    "# Merge the DataFrames for plotting\n",
    "coherence_df = base_df.merge(tuned_df, on='num_topics', suffixes=('_base', '_tuned'))\n",
    "\n",
    "# Plot the data using Seaborn\n",
    "sns.set_style(\"whitegrid\")\n",
    "plt.figure(figsize=(10, 6))\n",
    "\n",
    "# Line plot for the base model\n",
    "sns.lineplot(x='num_topics', y='coherence_base', data=coherence_df, marker='o', label='Base Model', color='blue')\n",
    "\n",
    "# Line plot for the tuned model\n",
    "sns.lineplot(x='num_topics', y='coherence_tuned', data=coherence_df, marker='o', label='Tuned Model', color='green')\n",
    "\n",
    "# Add labels and title\n",
    "plt.xlabel('Number of Topics', fontsize=14)\n",
    "plt.ylabel('Coherence Score', fontsize=14)\n",
    "plt.title('Coherence Scores of Base Model and Tuned Model', fontsize=16)\n",
    "plt.legend()\n",
    "\n",
    "# Show the plot\n",
    "plt.show()\n"
   ]
  },
  {
   "cell_type": "markdown",
   "id": "57bcd0b3-7590-4674-88c3-7eb56e2a9b87",
   "metadata": {},
   "source": [
    "# Analysis"
   ]
  },
  {
   "cell_type": "markdown",
   "id": "3b732807-923a-4728-92e3-8d5e61037c8b",
   "metadata": {},
   "source": [
    "# Word Clouds"
   ]
  },
  {
   "cell_type": "code",
   "execution_count": null,
   "id": "6b164ed5-769e-4527-a07f-27371e5d7044",
   "metadata": {},
   "outputs": [],
   "source": [
    "from wordcloud import WordCloud\n",
    "import matplotlib.pyplot as plt\n",
    "\n",
    "# Function to plot word cloud for a given topic\n",
    "def plot_word_cloud(lda_model, topic_id, num_words=10):\n",
    "    # Extract top words and their probabilities for the given topic\n",
    "    topic_words = lda_model.show_topic(topic_id, topn=num_words)\n",
    "    \n",
    "    # Generate word cloud\n",
    "    wordcloud = WordCloud(background_color='white').generate_from_frequencies(dict(topic_words))\n",
    "    \n",
    "    # Plot word cloud\n",
    "    plt.imshow(wordcloud, interpolation='bilinear')\n",
    "    plt.axis('off')\n",
    "    plt.title(f'Topic {topic_id}')\n",
    "    \n",
    "# Plot word clouds for all topics in a 2x3 grid\n",
    "fig, axs = plt.subplots(2, 3, figsize=(15, 10))\n",
    "\n",
    "for i in range(num_topics):\n",
    "    plt.subplot(2, 3, i + 1)\n",
    "    plot_word_cloud(lda_model, topic_id=i)\n",
    "\n",
    "# Remove the 6th subplot (bottom-right corner)\n",
    "fig.delaxes(axs[1, 2])\n",
    "\n",
    "plt.tight_layout()\n",
    "plt.show()"
   ]
  },
  {
   "cell_type": "code",
   "execution_count": null,
   "id": "8e6ad34c-cc6f-4f9f-8537-e700467d162e",
   "metadata": {},
   "outputs": [],
   "source": [
    "num_topics = 5\n",
    "# Aggregate topic distributions\n",
    "topic_distribution = {i: 0 for i in range(num_topics)}\n",
    "for doc_topics in topics:\n",
    "    for topic, prob in doc_topics:\n",
    "        topic_distribution[topic] += prob\n",
    "\n",
    "# Normalize topic distribution\n",
    "total_sum = sum(topic_distribution.values())\n",
    "topic_distribution = {topic: prob / total_sum for topic, prob in topic_distribution.items()}\n",
    "\n",
    "# Sort topics by probability and get top-5\n",
    "top_topics = sorted(topic_distribution.items(), key=lambda x: x[1], reverse=True)[:5]\n",
    "\n",
    "# Extract topic names based on most representative words (replace with your actual logic)\n",
    "topic_names = []\n",
    "for topic_id, _ in top_topics:\n",
    "    topic_words = lda_model.show_topic(topic_id, topn=5)  # Adjust topn based on your preference\n",
    "    topic_name = ', '.join([word for word, _ in topic_words])\n",
    "    topic_names.append(topic_name)\n",
    "\n",
    "# Plotting bar diagram with descriptive topic names\n",
    "plt.figure(figsize=(10, 6))\n",
    "plt.bar(topic_names, [prob for _, prob in top_topics], color='skyblue')\n",
    "plt.xlabel('Topics')\n",
    "plt.ylabel('Probability')\n",
    "plt.title('Top-5 Topics for News')\n",
    "plt.xticks(rotation=15, ha='right')\n",
    "plt.tight_layout()\n",
    "plt.savefig('top_5_topics.png') \n",
    "plt.show()"
   ]
  },
  {
   "cell_type": "markdown",
   "id": "4a7a2aa0-b723-48a2-91d6-08d6823282dc",
   "metadata": {},
   "source": [
    "# Conclusion"
   ]
  },
  {
   "cell_type": "markdown",
   "id": "a7fe0b1d-9e25-495d-a200-2e493226b226",
   "metadata": {},
   "source": [
    "# Future Improvements and Recommendations"
   ]
  }
 ],
 "metadata": {
  "kernelspec": {
   "display_name": "Python 3 (ipykernel)",
   "language": "python",
   "name": "python3"
  },
  "language_info": {
   "codemirror_mode": {
    "name": "ipython",
    "version": 3
   },
   "file_extension": ".py",
   "mimetype": "text/x-python",
   "name": "python",
   "nbconvert_exporter": "python",
   "pygments_lexer": "ipython3",
   "version": "3.11.7"
  }
 },
 "nbformat": 4,
 "nbformat_minor": 5
}
