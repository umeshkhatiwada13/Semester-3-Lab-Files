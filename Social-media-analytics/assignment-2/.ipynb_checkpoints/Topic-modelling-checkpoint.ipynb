{
 "cells": [
  {
   "cell_type": "code",
   "execution_count": 3,
   "id": "35f90df1-fea5-4ad9-bb4d-70cdf4264c09",
   "metadata": {},
   "outputs": [],
   "source": [
    "import pandas as pd"
   ]
  },
  {
   "cell_type": "code",
   "execution_count": 4,
   "id": "8bd34fa6-156e-4724-b72d-23266e33441a",
   "metadata": {},
   "outputs": [],
   "source": [
    "df = pd.read_csv('data/gdelt_news_articles.csv')"
   ]
  },
  {
   "cell_type": "code",
   "execution_count": 5,
   "id": "15f98deb-c809-4ccc-87db-74f1fac2e327",
   "metadata": {},
   "outputs": [
    {
     "data": {
      "text/html": [
       "<div>\n",
       "<style scoped>\n",
       "    .dataframe tbody tr th:only-of-type {\n",
       "        vertical-align: middle;\n",
       "    }\n",
       "\n",
       "    .dataframe tbody tr th {\n",
       "        vertical-align: top;\n",
       "    }\n",
       "\n",
       "    .dataframe thead th {\n",
       "        text-align: right;\n",
       "    }\n",
       "</style>\n",
       "<table border=\"1\" class=\"dataframe\">\n",
       "  <thead>\n",
       "    <tr style=\"text-align: right;\">\n",
       "      <th></th>\n",
       "      <th>url</th>\n",
       "      <th>title</th>\n",
       "      <th>seendate</th>\n",
       "      <th>socialimage</th>\n",
       "      <th>domain</th>\n",
       "      <th>language</th>\n",
       "      <th>isquote</th>\n",
       "      <th>sentence</th>\n",
       "      <th>context</th>\n",
       "    </tr>\n",
       "  </thead>\n",
       "  <tbody>\n",
       "    <tr>\n",
       "      <th>0</th>\n",
       "      <td>https://www.theislamicmonthly.com/from-us-to-t...</td>\n",
       "      <td>From Us to Them - The Islamic Monthly</td>\n",
       "      <td>20240616T011656Z</td>\n",
       "      <td>https://www.theislamicmonthly.com/wp-content/u...</td>\n",
       "      <td>theislamicmonthly.com</td>\n",
       "      <td>ENGLISH</td>\n",
       "      <td>0</td>\n",
       "      <td>Khalid Masood of the Westminster Bridge attack...</td>\n",
       "      <td>Journalists as well as policymakers have often...</td>\n",
       "    </tr>\n",
       "    <tr>\n",
       "      <th>1</th>\n",
       "      <td>https://www.castanetkamloops.net/news/Vernon/4...</td>\n",
       "      <td>Greater Vernon Chamber of Commerce looking for...</td>\n",
       "      <td>20240616T011645Z</td>\n",
       "      <td>https://www.castanet.net/content/2024/6/img_66...</td>\n",
       "      <td>castanetkamloops.net</td>\n",
       "      <td>ENGLISH</td>\n",
       "      <td>0</td>\n",
       "      <td>and Canada.</td>\n",
       "      <td>· Awareness of the business and economic clima...</td>\n",
       "    </tr>\n",
       "    <tr>\n",
       "      <th>2</th>\n",
       "      <td>https://calgarysun.com/news/local-news/calgary...</td>\n",
       "      <td>Everybody has to be responsible: Calgarians co...</td>\n",
       "      <td>20240616T011644Z</td>\n",
       "      <td>NaN</td>\n",
       "      <td>calgarysun.com</td>\n",
       "      <td>ENGLISH</td>\n",
       "      <td>0</td>\n",
       "      <td>Article content The bottled water was fast dis...</td>\n",
       "      <td>Or sign-in if you have an account. Article con...</td>\n",
       "    </tr>\n",
       "    <tr>\n",
       "      <th>3</th>\n",
       "      <td>https://calgarysun.com/news/local-news/outdoor...</td>\n",
       "      <td>Part of the family: Outdoor pet food bank open...</td>\n",
       "      <td>20240616T011644Z</td>\n",
       "      <td>NaN</td>\n",
       "      <td>calgarysun.com</td>\n",
       "      <td>ENGLISH</td>\n",
       "      <td>0</td>\n",
       "      <td>Advertisement 2 Story continues below THIS CON...</td>\n",
       "      <td>Article content A local non-profit group has o...</td>\n",
       "    </tr>\n",
       "    <tr>\n",
       "      <th>4</th>\n",
       "      <td>https://dynamicbusiness.com/weekly-funding-rou...</td>\n",
       "      <td>Funding highlights: Kintsugi AI, Bailador Tech...</td>\n",
       "      <td>20240616T011643Z</td>\n",
       "      <td>https://backend.dynamicbusiness.com/wp-content...</td>\n",
       "      <td>dynamicbusiness.com</td>\n",
       "      <td>ENGLISH</td>\n",
       "      <td>0</td>\n",
       "      <td>The influx of capital will fuel Kintsugi AI's ...</td>\n",
       "      <td>Link Ventures spearheaded the series A funding...</td>\n",
       "    </tr>\n",
       "  </tbody>\n",
       "</table>\n",
       "</div>"
      ],
      "text/plain": [
       "                                                 url  \\\n",
       "0  https://www.theislamicmonthly.com/from-us-to-t...   \n",
       "1  https://www.castanetkamloops.net/news/Vernon/4...   \n",
       "2  https://calgarysun.com/news/local-news/calgary...   \n",
       "3  https://calgarysun.com/news/local-news/outdoor...   \n",
       "4  https://dynamicbusiness.com/weekly-funding-rou...   \n",
       "\n",
       "                                               title          seendate  \\\n",
       "0              From Us to Them - The Islamic Monthly  20240616T011656Z   \n",
       "1  Greater Vernon Chamber of Commerce looking for...  20240616T011645Z   \n",
       "2  Everybody has to be responsible: Calgarians co...  20240616T011644Z   \n",
       "3  Part of the family: Outdoor pet food bank open...  20240616T011644Z   \n",
       "4  Funding highlights: Kintsugi AI, Bailador Tech...  20240616T011643Z   \n",
       "\n",
       "                                         socialimage                 domain  \\\n",
       "0  https://www.theislamicmonthly.com/wp-content/u...  theislamicmonthly.com   \n",
       "1  https://www.castanet.net/content/2024/6/img_66...   castanetkamloops.net   \n",
       "2                                                NaN         calgarysun.com   \n",
       "3                                                NaN         calgarysun.com   \n",
       "4  https://backend.dynamicbusiness.com/wp-content...    dynamicbusiness.com   \n",
       "\n",
       "  language  isquote                                           sentence  \\\n",
       "0  ENGLISH        0  Khalid Masood of the Westminster Bridge attack...   \n",
       "1  ENGLISH        0                                        and Canada.   \n",
       "2  ENGLISH        0  Article content The bottled water was fast dis...   \n",
       "3  ENGLISH        0  Advertisement 2 Story continues below THIS CON...   \n",
       "4  ENGLISH        0  The influx of capital will fuel Kintsugi AI's ...   \n",
       "\n",
       "                                             context  \n",
       "0  Journalists as well as policymakers have often...  \n",
       "1  · Awareness of the business and economic clima...  \n",
       "2  Or sign-in if you have an account. Article con...  \n",
       "3  Article content A local non-profit group has o...  \n",
       "4  Link Ventures spearheaded the series A funding...  "
      ]
     },
     "execution_count": 5,
     "metadata": {},
     "output_type": "execute_result"
    }
   ],
   "source": [
    "df.head()"
   ]
  },
  {
   "cell_type": "code",
   "execution_count": 6,
   "id": "31f7ba7f-9489-46f0-990d-13bffba3db35",
   "metadata": {},
   "outputs": [
    {
     "data": {
      "text/plain": [
       "(20094, 9)"
      ]
     },
     "execution_count": 6,
     "metadata": {},
     "output_type": "execute_result"
    }
   ],
   "source": [
    "df.shape"
   ]
  },
  {
   "cell_type": "code",
   "execution_count": 7,
   "id": "10646d08-17fb-40e9-a3c0-c34188ca39d1",
   "metadata": {},
   "outputs": [],
   "source": [
    "df = df[df['language'] == 'ENGLISH']"
   ]
  },
  {
   "cell_type": "code",
   "execution_count": 8,
   "id": "0ce32c5a-73b3-4bed-8114-41c5bcd5d624",
   "metadata": {},
   "outputs": [],
   "source": [
    "df_new = df['title']"
   ]
  },
  {
   "cell_type": "code",
   "execution_count": 9,
   "id": "988acd6e-879d-4fb6-9865-38d9f48f730e",
   "metadata": {},
   "outputs": [
    {
     "data": {
      "text/plain": [
       "0                From Us to Them - The Islamic Monthly\n",
       "1    Greater Vernon Chamber of Commerce looking for...\n",
       "2    Everybody has to be responsible: Calgarians co...\n",
       "3    Part of the family: Outdoor pet food bank open...\n",
       "4    Funding highlights: Kintsugi AI, Bailador Tech...\n",
       "Name: title, dtype: object"
      ]
     },
     "execution_count": 9,
     "metadata": {},
     "output_type": "execute_result"
    }
   ],
   "source": [
    "df_new.head()"
   ]
  },
  {
   "cell_type": "code",
   "execution_count": 10,
   "id": "1b00b898-f6b3-428f-820e-63d25d92b0a6",
   "metadata": {},
   "outputs": [
    {
     "data": {
      "text/plain": [
       "(20094,)"
      ]
     },
     "execution_count": 10,
     "metadata": {},
     "output_type": "execute_result"
    }
   ],
   "source": [
    "df_new.shape"
   ]
  },
  {
   "cell_type": "code",
   "execution_count": 13,
   "id": "b6e6b9ba-13e3-4ebf-818d-89ee8a0d21bf",
   "metadata": {},
   "outputs": [],
   "source": [
    "# Data preprocessing"
   ]
  },
  {
   "cell_type": "code",
   "execution_count": null,
   "id": "b86ff8ab-fa39-4e14-8f0e-1d38b952ccd1",
   "metadata": {},
   "outputs": [],
   "source": [
    "import nltk\n",
    "import gensim\n",
    "from gensim import corpora\n",
    "from nltk.corpus import wordnet\n",
    "from nltk.stem import WordNetLemmatizer\n",
    "from nltk.tokenize import word_tokenize\n",
    "from nltk.corpus import stopwords\n",
    "import re"
   ]
  },
  {
   "cell_type": "code",
   "execution_count": 12,
   "id": "cb9d7e93-ad6d-4b14-b051-680af165d8de",
   "metadata": {},
   "outputs": [
    {
     "ename": "NameError",
     "evalue": "name 'nltk' is not defined",
     "output_type": "error",
     "traceback": [
      "\u001b[1;31m---------------------------------------------------------------------------\u001b[0m",
      "\u001b[1;31mNameError\u001b[0m                                 Traceback (most recent call last)",
      "Cell \u001b[1;32mIn[12], line 2\u001b[0m\n\u001b[0;32m      1\u001b[0m \u001b[38;5;66;03m# Download NLTK resources if not already downloaded\u001b[39;00m\n\u001b[1;32m----> 2\u001b[0m nltk\u001b[38;5;241m.\u001b[39mdownload(\u001b[38;5;124m'\u001b[39m\u001b[38;5;124mpunkt\u001b[39m\u001b[38;5;124m'\u001b[39m)\n\u001b[0;32m      3\u001b[0m nltk\u001b[38;5;241m.\u001b[39mdownload(\u001b[38;5;124m'\u001b[39m\u001b[38;5;124mstopwords\u001b[39m\u001b[38;5;124m'\u001b[39m)\n\u001b[0;32m      4\u001b[0m nltk\u001b[38;5;241m.\u001b[39mdownload(\u001b[38;5;124m'\u001b[39m\u001b[38;5;124maveraged_perceptron_tagger\u001b[39m\u001b[38;5;124m'\u001b[39m)\n",
      "\u001b[1;31mNameError\u001b[0m: name 'nltk' is not defined"
     ]
    }
   ],
   "source": [
    "\n",
    "# Download NLTK resources if not already downloaded\n",
    "nltk.download('punkt')\n",
    "nltk.download('stopwords')\n",
    "nltk.download('averaged_perceptron_tagger')\n",
    "nltk.download('wordnet')"
   ]
  },
  {
   "cell_type": "code",
   "execution_count": null,
   "id": "ba8ba0f3-2f1e-4f74-b321-8e73ab8daf55",
   "metadata": {},
   "outputs": [],
   "source": []
  },
  {
   "cell_type": "code",
   "execution_count": null,
   "id": "33a61030-2386-46c4-8cb5-931dd8501fe1",
   "metadata": {},
   "outputs": [],
   "source": [
    "# Function to map POS tag to first character lemmatize() accepts\n",
    "def get_wordnet_pos(word):\n",
    "    tag = nltk.pos_tag([word])[0][1][0].upper()\n",
    "    tag_dict = {\"J\": wordnet.ADJ,\n",
    "                \"N\": wordnet.NOUN,\n",
    "                \"V\": wordnet.VERB,\n",
    "                \"R\": wordnet.ADV}\n",
    "    return tag_dict.get(tag, wordnet.NOUN)  # Default to noun if not found\n",
    "\n",
    "# Text preprocessing for LDA\n",
    "def preprocess_text(text):\n",
    "    # Lowercase the text\n",
    "    text = text.lower()\n",
    "    # Remove URLs\n",
    "    text = re.sub(r'http\\S+', '', text)\n",
    "    # Remove punctuation\n",
    "    text = re.sub(r'[^\\w\\s]', '', text)\n",
    "    # Tokenize\n",
    "    words = word_tokenize(text)\n",
    "    # Remove stopwords and short words\n",
    "    stop_words = set(stopwords.words('english'))\n",
    "    words = [word for word in words if word not in stop_words and len(word) > 3]\n",
    "    # Lemmatize\n",
    "    lemmatizer = WordNetLemmatizer()\n",
    "    words = [lemmatizer.lemmatize(word, get_wordnet_pos(word)) for word in words]\n",
    "    return words\n",
    "\n",
    "# Apply preprocessing to the 'sentence' column\n",
    "df['cleaned_sentence'] = df['sentence'].apply(preprocess_text)\n",
    "\n",
    "# Prepare for LDA\n",
    "texts = df['cleaned_sentence'].tolist()\n"
   ]
  },
  {
   "cell_type": "code",
   "execution_count": null,
   "id": "67334f28-fb30-4c8c-ae88-59383c9cdb2b",
   "metadata": {},
   "outputs": [],
   "source": [
    "print(texts)"
   ]
  },
  {
   "cell_type": "code",
   "execution_count": null,
   "id": "0b49b350-3e77-4ac4-be3b-5533b7db41ba",
   "metadata": {},
   "outputs": [],
   "source": [
    "print(len(texts))"
   ]
  },
  {
   "cell_type": "code",
   "execution_count": null,
   "id": "3c44121a-fc1e-4d87-88ec-9bb9c2db6ca3",
   "metadata": {},
   "outputs": [],
   "source": [
    "# Create a dictionary and corpus needed for LDA\n",
    "dictionary = corpora.Dictionary(texts)\n",
    "corpus = [dictionary.doc2bow(text) for text in texts]\n",
    "\n",
    "# Train LDA model\n",
    "lda_model = gensim.models.ldamodel.LdaModel(corpus, num_topics=5, id2word=dictionary, passes=15)\n",
    "\n",
    "# Assign topics to documents\n",
    "topics = lda_model.get_document_topics(corpus)\n",
    "\n",
    "# Print the topics\n",
    "for idx, topic in lda_model.print_topics(-1):\n",
    "    print('Topic: {} \\nWords: {}'.format(idx, topic))"
   ]
  },
  {
   "cell_type": "code",
   "execution_count": null,
   "id": "f514c773-6e99-45b0-bcd3-d0d2f8dfaad0",
   "metadata": {},
   "outputs": [],
   "source": [
    "# Analysis"
   ]
  },
  {
   "cell_type": "code",
   "execution_count": null,
   "id": "5102fd6b-02ed-4e46-8ced-461d135feb2e",
   "metadata": {},
   "outputs": [],
   "source": [
    "# Word Clouds"
   ]
  },
  {
   "cell_type": "code",
   "execution_count": null,
   "id": "6b164ed5-769e-4527-a07f-27371e5d7044",
   "metadata": {},
   "outputs": [],
   "source": [
    "from wordcloud import WordCloud\n",
    "import matplotlib.pyplot as plt\n",
    "\n",
    "def plot_word_cloud(lda_model, topic_id, num_words=15):\n",
    "    # Extract top words and their probabilities for the given topic\n",
    "    topic_words = lda_model.show_topic(topic_id, topn=num_words)\n",
    "    \n",
    "    # Generate word cloud\n",
    "    wordcloud = WordCloud(background_color='white').generate_from_frequencies(dict(topic_words))\n",
    "    \n",
    "    # Plot\n",
    "    plt.figure(figsize=(8, 6))\n",
    "    plt.imshow(wordcloud, interpolation='bilinear')\n",
    "    plt.axis('off')\n",
    "    plt.title(f'Topic {topic_id}')\n",
    "    plt.show()\n",
    "\n",
    "plot_word_cloud(lda_model, topic_id=0)\n"
   ]
  },
  {
   "cell_type": "code",
   "execution_count": null,
   "id": "aa404b03-2194-42e2-b189-26f0543aef79",
   "metadata": {},
   "outputs": [],
   "source": [
    "# Term Frequency-Inverse Document Frequency (TF-IDF) Visualization"
   ]
  },
  {
   "cell_type": "code",
   "execution_count": null,
   "id": "c8e11ab2-7cc5-471e-8aa5-bf495b63bc9c",
   "metadata": {},
   "outputs": [],
   "source": [
    "from wordcloud import WordCloud\n",
    "import matplotlib.pyplot as plt\n",
    "\n",
    "# Function to plot word cloud for a given topic\n",
    "def plot_word_cloud(lda_model, topic_id, num_words=30):\n",
    "    # Extract top words and their probabilities for the given topic\n",
    "    topic_words = lda_model.show_topic(topic_id, topn=num_words)\n",
    "    \n",
    "    # Generate word cloud\n",
    "    wordcloud = WordCloud(background_color='white').generate_from_frequencies(dict(topic_words))\n",
    "    \n",
    "    # Plot word cloud\n",
    "    plt.imshow(wordcloud, interpolation='bilinear')\n",
    "    plt.axis('off')\n",
    "    plt.title(f'Topic {topic_id}')\n",
    "\n",
    "# Example usage: Plotting 5 word clouds in a 2x3 grid\n",
    "fig, axs = plt.subplots(2, 3, figsize=(15, 10))\n",
    "\n",
    "# Iterate over each topic (assuming lda_model and num_topics are defined)\n",
    "num_topics = 5\n",
    "for i in range(num_topics):\n",
    "    row = i // 3\n",
    "    col = i % 3\n",
    "    ax = axs[row, col]\n",
    "    plot_word_cloud(lda_model, topic_id=i)\n",
    "    ax.set_title(f'Topic {i}')\n",
    "    ax.axis('off')\n",
    "\n",
    "plt.tight_layout()\n",
    "plt.show()\n"
   ]
  },
  {
   "cell_type": "code",
   "execution_count": null,
   "id": "8e6ad34c-cc6f-4f9f-8537-e700467d162e",
   "metadata": {},
   "outputs": [],
   "source": [
    "num_topics = 5\n",
    "# Aggregate topic distributions\n",
    "topic_distribution = {i: 0 for i in range(num_topics)}\n",
    "for doc_topics in topics:\n",
    "    for topic, prob in doc_topics:\n",
    "        topic_distribution[topic] += prob\n",
    "\n",
    "# Normalize topic distribution\n",
    "total_sum = sum(topic_distribution.values())\n",
    "topic_distribution = {topic: prob / total_sum for topic, prob in topic_distribution.items()}\n",
    "\n",
    "# Sort topics by probability and get top-5\n",
    "top_topics = sorted(topic_distribution.items(), key=lambda x: x[1], reverse=True)[:5]\n",
    "\n",
    "# Extract topic names based on most representative words (replace with your actual logic)\n",
    "topic_names = []\n",
    "for topic_id, _ in top_topics:\n",
    "    topic_words = lda_model.show_topic(topic_id, topn=5)  # Adjust topn based on your preference\n",
    "    topic_name = ', '.join([word for word, _ in topic_words])\n",
    "    topic_names.append(topic_name)\n",
    "\n",
    "# Plotting bar diagram with descriptive topic names\n",
    "plt.figure(figsize=(10, 6))\n",
    "plt.bar(topic_names, [prob for _, prob in top_topics], color='skyblue')\n",
    "plt.xlabel('Topics')\n",
    "plt.ylabel('Probability')\n",
    "plt.title('Top-5 Topics for Twitter Handler')\n",
    "plt.xticks(rotation=15, ha='right')\n",
    "plt.tight_layout()\n",
    "plt.savefig('top_5_topics.png') \n",
    "plt.show()"
   ]
  }
 ],
 "metadata": {
  "kernelspec": {
   "display_name": "Python 3 (ipykernel)",
   "language": "python",
   "name": "python3"
  },
  "language_info": {
   "codemirror_mode": {
    "name": "ipython",
    "version": 3
   },
   "file_extension": ".py",
   "mimetype": "text/x-python",
   "name": "python",
   "nbconvert_exporter": "python",
   "pygments_lexer": "ipython3",
   "version": "3.11.7"
  }
 },
 "nbformat": 4,
 "nbformat_minor": 5
}
