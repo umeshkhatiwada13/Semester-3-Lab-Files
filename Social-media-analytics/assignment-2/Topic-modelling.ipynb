{
 "cells": [
  {
   "cell_type": "markdown",
   "id": "d1a7b2b7-bdeb-4a6c-af08-03c2dcbe376e",
   "metadata": {},
   "source": [
    "# Model Imports"
   ]
  },
  {
   "cell_type": "code",
   "execution_count": 37,
   "id": "35f90df1-fea5-4ad9-bb4d-70cdf4264c09",
   "metadata": {},
   "outputs": [],
   "source": [
    "import pandas as pd\n",
    "import requests\n",
    "import time\n",
    "import seaborn as sns\n"
   ]
  },
  {
   "cell_type": "markdown",
   "id": "f8cdddfb-3680-4c36-84b1-8e1d42b1e74c",
   "metadata": {},
   "source": [
    "# GDELT News API Data fetching "
   ]
  },
  {
   "cell_type": "code",
   "execution_count": 38,
   "id": "38297d05-582d-432d-ae85-2339181c3255",
   "metadata": {},
   "outputs": [],
   "source": [
    "# def fetch_gdelt_context(query, max_records=200, start=0):\n",
    "#     base_url = \"https://api.gdeltproject.org/api/v2/context/context\"\n",
    "    \n",
    "#     params = {\n",
    "#         'query': query,\n",
    "#         'mode': 'artlist',\n",
    "#         'format': 'json',\n",
    "#         'maxrecords': max_records,\n",
    "#         'start': start\n",
    "#     }\n",
    "    \n",
    "#     try:\n",
    "#         response = requests.get(base_url, params=params)\n",
    "#         response.raise_for_status()  # Raise an exception for HTTP errors\n",
    "\n",
    "#         # Parse JSON response\n",
    "#         data = response.json()\n",
    "#         articles = data.get('articles', [])\n",
    "\n",
    "#         return articles\n",
    "\n",
    "#     except requests.exceptions.RequestException as e:\n",
    "#         print(f\"Error fetching articles: {e}\")\n",
    "#         return []\n",
    "\n",
    "# # List of topics to query\n",
    "# topics = [\n",
    "#     'canada'\n",
    "# ]\n",
    "\n",
    "# # number of articles to fetch\n",
    "# article_count = 100000\n",
    "\n",
    "# # Initialize DataFrame to store all articles\n",
    "# all_articles_df = pd.DataFrame()\n",
    "\n",
    "# # Fetch data for each topic\n",
    "# for topic in topics:\n",
    "#     start = 0\n",
    "#     while True:\n",
    "#         articles = fetch_gdelt_context(query=topic, max_records=200, start=start)\n",
    "#         if not articles:\n",
    "#             break  # Exit loop if no more articles are returned\n",
    "\n",
    "#         # Convert list of dictionaries to DataFrame\n",
    "#         articles_df = pd.DataFrame(articles)\n",
    "\n",
    "#         # Append to the main DataFrame\n",
    "#         all_articles_df = pd.concat([all_articles_df, articles_df], ignore_index=True)\n",
    "\n",
    "#         # Break if we reach the required number of articles\n",
    "#         if len(all_articles_df) >= article_count:\n",
    "#             break\n",
    "\n",
    "#         # Update start for next page\n",
    "#         start += 200\n",
    "\n",
    "#         print(\"Fetched total data : \",len(all_articles_df))\n",
    "\n",
    "#         # Pause to respect API rate limits\n",
    "#         time.sleep(1)\n",
    "\n",
    "#     # Check if we have reached the required number of articles\n",
    "#     if len(all_articles_df) >= article_count:\n",
    "#         break\n",
    "\n",
    "# print(f\"Fetched {len(all_articles_df)} articles.\")\n",
    "\n",
    "# # Save DataFrame to CSV file\n",
    "# all_articles_df.to_csv('data/gdelt_news_articles.csv', index=False)\n",
    "\n",
    "# # Optionally, display or further process the DataFrame\n",
    "# print(all_articles_df.head())\n"
   ]
  },
  {
   "cell_type": "markdown",
   "id": "950840f3-f378-4da5-8586-89772a57754a",
   "metadata": {},
   "source": [
    "# Data Preprocessing"
   ]
  },
  {
   "cell_type": "code",
   "execution_count": 39,
   "id": "8bd34fa6-156e-4724-b72d-23266e33441a",
   "metadata": {},
   "outputs": [],
   "source": [
    "df = pd.read_csv('data/gdelt_news_articles.csv')"
   ]
  },
  {
   "cell_type": "code",
   "execution_count": 40,
   "id": "15f98deb-c809-4ccc-87db-74f1fac2e327",
   "metadata": {},
   "outputs": [
    {
     "data": {
      "text/html": [
       "<div>\n",
       "<style scoped>\n",
       "    .dataframe tbody tr th:only-of-type {\n",
       "        vertical-align: middle;\n",
       "    }\n",
       "\n",
       "    .dataframe tbody tr th {\n",
       "        vertical-align: top;\n",
       "    }\n",
       "\n",
       "    .dataframe thead th {\n",
       "        text-align: right;\n",
       "    }\n",
       "</style>\n",
       "<table border=\"1\" class=\"dataframe\">\n",
       "  <thead>\n",
       "    <tr style=\"text-align: right;\">\n",
       "      <th></th>\n",
       "      <th>url</th>\n",
       "      <th>title</th>\n",
       "      <th>seendate</th>\n",
       "      <th>socialimage</th>\n",
       "      <th>domain</th>\n",
       "      <th>language</th>\n",
       "      <th>isquote</th>\n",
       "      <th>sentence</th>\n",
       "      <th>context</th>\n",
       "    </tr>\n",
       "  </thead>\n",
       "  <tbody>\n",
       "    <tr>\n",
       "      <th>0</th>\n",
       "      <td>https://www.theislamicmonthly.com/from-us-to-t...</td>\n",
       "      <td>From Us to Them - The Islamic Monthly</td>\n",
       "      <td>20240616T011656Z</td>\n",
       "      <td>https://www.theislamicmonthly.com/wp-content/u...</td>\n",
       "      <td>theislamicmonthly.com</td>\n",
       "      <td>ENGLISH</td>\n",
       "      <td>0</td>\n",
       "      <td>Khalid Masood of the Westminster Bridge attack...</td>\n",
       "      <td>Journalists as well as policymakers have often...</td>\n",
       "    </tr>\n",
       "    <tr>\n",
       "      <th>1</th>\n",
       "      <td>https://www.castanetkamloops.net/news/Vernon/4...</td>\n",
       "      <td>Greater Vernon Chamber of Commerce looking for...</td>\n",
       "      <td>20240616T011645Z</td>\n",
       "      <td>https://www.castanet.net/content/2024/6/img_66...</td>\n",
       "      <td>castanetkamloops.net</td>\n",
       "      <td>ENGLISH</td>\n",
       "      <td>0</td>\n",
       "      <td>and Canada.</td>\n",
       "      <td>· Awareness of the business and economic clima...</td>\n",
       "    </tr>\n",
       "    <tr>\n",
       "      <th>2</th>\n",
       "      <td>https://calgarysun.com/news/local-news/calgary...</td>\n",
       "      <td>Everybody has to be responsible: Calgarians co...</td>\n",
       "      <td>20240616T011644Z</td>\n",
       "      <td>NaN</td>\n",
       "      <td>calgarysun.com</td>\n",
       "      <td>ENGLISH</td>\n",
       "      <td>0</td>\n",
       "      <td>Article content The bottled water was fast dis...</td>\n",
       "      <td>Or sign-in if you have an account. Article con...</td>\n",
       "    </tr>\n",
       "    <tr>\n",
       "      <th>3</th>\n",
       "      <td>https://calgarysun.com/news/local-news/outdoor...</td>\n",
       "      <td>Part of the family: Outdoor pet food bank open...</td>\n",
       "      <td>20240616T011644Z</td>\n",
       "      <td>NaN</td>\n",
       "      <td>calgarysun.com</td>\n",
       "      <td>ENGLISH</td>\n",
       "      <td>0</td>\n",
       "      <td>Advertisement 2 Story continues below THIS CON...</td>\n",
       "      <td>Article content A local non-profit group has o...</td>\n",
       "    </tr>\n",
       "    <tr>\n",
       "      <th>4</th>\n",
       "      <td>https://dynamicbusiness.com/weekly-funding-rou...</td>\n",
       "      <td>Funding highlights: Kintsugi AI, Bailador Tech...</td>\n",
       "      <td>20240616T011643Z</td>\n",
       "      <td>https://backend.dynamicbusiness.com/wp-content...</td>\n",
       "      <td>dynamicbusiness.com</td>\n",
       "      <td>ENGLISH</td>\n",
       "      <td>0</td>\n",
       "      <td>The influx of capital will fuel Kintsugi AI's ...</td>\n",
       "      <td>Link Ventures spearheaded the series A funding...</td>\n",
       "    </tr>\n",
       "  </tbody>\n",
       "</table>\n",
       "</div>"
      ],
      "text/plain": [
       "                                                 url  \\\n",
       "0  https://www.theislamicmonthly.com/from-us-to-t...   \n",
       "1  https://www.castanetkamloops.net/news/Vernon/4...   \n",
       "2  https://calgarysun.com/news/local-news/calgary...   \n",
       "3  https://calgarysun.com/news/local-news/outdoor...   \n",
       "4  https://dynamicbusiness.com/weekly-funding-rou...   \n",
       "\n",
       "                                               title          seendate  \\\n",
       "0              From Us to Them - The Islamic Monthly  20240616T011656Z   \n",
       "1  Greater Vernon Chamber of Commerce looking for...  20240616T011645Z   \n",
       "2  Everybody has to be responsible: Calgarians co...  20240616T011644Z   \n",
       "3  Part of the family: Outdoor pet food bank open...  20240616T011644Z   \n",
       "4  Funding highlights: Kintsugi AI, Bailador Tech...  20240616T011643Z   \n",
       "\n",
       "                                         socialimage                 domain  \\\n",
       "0  https://www.theislamicmonthly.com/wp-content/u...  theislamicmonthly.com   \n",
       "1  https://www.castanet.net/content/2024/6/img_66...   castanetkamloops.net   \n",
       "2                                                NaN         calgarysun.com   \n",
       "3                                                NaN         calgarysun.com   \n",
       "4  https://backend.dynamicbusiness.com/wp-content...    dynamicbusiness.com   \n",
       "\n",
       "  language  isquote                                           sentence  \\\n",
       "0  ENGLISH        0  Khalid Masood of the Westminster Bridge attack...   \n",
       "1  ENGLISH        0                                        and Canada.   \n",
       "2  ENGLISH        0  Article content The bottled water was fast dis...   \n",
       "3  ENGLISH        0  Advertisement 2 Story continues below THIS CON...   \n",
       "4  ENGLISH        0  The influx of capital will fuel Kintsugi AI's ...   \n",
       "\n",
       "                                             context  \n",
       "0  Journalists as well as policymakers have often...  \n",
       "1  · Awareness of the business and economic clima...  \n",
       "2  Or sign-in if you have an account. Article con...  \n",
       "3  Article content A local non-profit group has o...  \n",
       "4  Link Ventures spearheaded the series A funding...  "
      ]
     },
     "execution_count": 40,
     "metadata": {},
     "output_type": "execute_result"
    }
   ],
   "source": [
    "df.head()"
   ]
  },
  {
   "cell_type": "code",
   "execution_count": 41,
   "id": "31f7ba7f-9489-46f0-990d-13bffba3db35",
   "metadata": {},
   "outputs": [
    {
     "data": {
      "text/plain": [
       "(20094, 9)"
      ]
     },
     "execution_count": 41,
     "metadata": {},
     "output_type": "execute_result"
    }
   ],
   "source": [
    "df.shape"
   ]
  },
  {
   "cell_type": "code",
   "execution_count": 42,
   "id": "10646d08-17fb-40e9-a3c0-c34188ca39d1",
   "metadata": {},
   "outputs": [],
   "source": [
    "# selecting news only in English Languge\n",
    "df = df[df['language'] == 'ENGLISH']"
   ]
  },
  {
   "cell_type": "code",
   "execution_count": 43,
   "id": "0ce32c5a-73b3-4bed-8114-41c5bcd5d624",
   "metadata": {},
   "outputs": [],
   "source": [
    "# using title only for topic modelling\n",
    "df_new = df['title']"
   ]
  },
  {
   "cell_type": "code",
   "execution_count": 44,
   "id": "988acd6e-879d-4fb6-9865-38d9f48f730e",
   "metadata": {},
   "outputs": [
    {
     "data": {
      "text/plain": [
       "0                From Us to Them - The Islamic Monthly\n",
       "1    Greater Vernon Chamber of Commerce looking for...\n",
       "2    Everybody has to be responsible: Calgarians co...\n",
       "3    Part of the family: Outdoor pet food bank open...\n",
       "4    Funding highlights: Kintsugi AI, Bailador Tech...\n",
       "Name: title, dtype: object"
      ]
     },
     "execution_count": 44,
     "metadata": {},
     "output_type": "execute_result"
    }
   ],
   "source": [
    "df_new.head()"
   ]
  },
  {
   "cell_type": "code",
   "execution_count": 45,
   "id": "1b00b898-f6b3-428f-820e-63d25d92b0a6",
   "metadata": {},
   "outputs": [
    {
     "data": {
      "text/plain": [
       "(20094,)"
      ]
     },
     "execution_count": 45,
     "metadata": {},
     "output_type": "execute_result"
    }
   ],
   "source": [
    "df_new.shape"
   ]
  },
  {
   "cell_type": "markdown",
   "id": "9b5be43b-a087-4874-ab28-c29d8b7a2c9f",
   "metadata": {},
   "source": [
    "# Text preprocessing"
   ]
  },
  {
   "cell_type": "code",
   "execution_count": 46,
   "id": "b86ff8ab-fa39-4e14-8f0e-1d38b952ccd1",
   "metadata": {},
   "outputs": [
    {
     "name": "stderr",
     "output_type": "stream",
     "text": [
      "[nltk_data] Downloading package punkt to\n",
      "[nltk_data]     C:\\Users\\umesh\\AppData\\Roaming\\nltk_data...\n",
      "[nltk_data]   Package punkt is already up-to-date!\n",
      "[nltk_data] Downloading package stopwords to\n",
      "[nltk_data]     C:\\Users\\umesh\\AppData\\Roaming\\nltk_data...\n",
      "[nltk_data]   Package stopwords is already up-to-date!\n",
      "[nltk_data] Downloading package averaged_perceptron_tagger to\n",
      "[nltk_data]     C:\\Users\\umesh\\AppData\\Roaming\\nltk_data...\n",
      "[nltk_data]   Package averaged_perceptron_tagger is already up-to-\n",
      "[nltk_data]       date!\n",
      "[nltk_data] Downloading package wordnet to\n",
      "[nltk_data]     C:\\Users\\umesh\\AppData\\Roaming\\nltk_data...\n",
      "[nltk_data]   Package wordnet is already up-to-date!\n"
     ]
    },
    {
     "data": {
      "text/plain": [
       "True"
      ]
     },
     "execution_count": 46,
     "metadata": {},
     "output_type": "execute_result"
    }
   ],
   "source": [
    "# imports for Text preprocessing\n",
    "import nltk\n",
    "import gensim\n",
    "from gensim import corpora\n",
    "from nltk.corpus import wordnet\n",
    "from nltk.stem import WordNetLemmatizer\n",
    "from nltk.tokenize import word_tokenize\n",
    "from nltk.corpus import stopwords\n",
    "import re\n",
    "\n",
    "# Download NLTK resources if not already downloaded\n",
    "nltk.download('punkt')\n",
    "nltk.download('stopwords')\n",
    "nltk.download('averaged_perceptron_tagger')\n",
    "nltk.download('wordnet')"
   ]
  },
  {
   "cell_type": "code",
   "execution_count": 47,
   "id": "33a61030-2386-46c4-8cb5-931dd8501fe1",
   "metadata": {},
   "outputs": [],
   "source": [
    "# Function to map POS tag to first character lemmatize() accepts\n",
    "def get_wordnet_pos(word):\n",
    "    tag = nltk.pos_tag([word])[0][1][0].upper()\n",
    "    tag_dict = {\"J\": wordnet.ADJ,\n",
    "                \"N\": wordnet.NOUN,\n",
    "                \"V\": wordnet.VERB,\n",
    "                \"R\": wordnet.ADV}\n",
    "    return tag_dict.get(tag, wordnet.NOUN)  # Default to noun if not found\n",
    "\n",
    "# Text preprocessing for LDA\n",
    "def preprocess_text(text):\n",
    "    # Lowercase the text\n",
    "    text = text.lower()\n",
    "    # Remove URLs\n",
    "    text = re.sub(r'http\\S+', '', text)\n",
    "    # Remove punctuation\n",
    "    text = re.sub(r'[^\\w\\s]', '', text)\n",
    "    # Tokenize\n",
    "    words = word_tokenize(text)\n",
    "    # Remove stopwords and short words\n",
    "    stop_words = set(stopwords.words('english'))\n",
    "    words = [word for word in words if word not in stop_words and len(word) > 3]\n",
    "    # Lemmatize\n",
    "    lemmatizer = WordNetLemmatizer()\n",
    "    words = [lemmatizer.lemmatize(word, get_wordnet_pos(word)) for word in words]\n",
    "    return words\n",
    "\n",
    "# Apply preprocessing to the 'sentence' column\n",
    "df['cleaned_sentence'] = df['sentence'].apply(preprocess_text)\n",
    "\n",
    "# Prepare for LDA\n",
    "texts = df['cleaned_sentence'].tolist()\n"
   ]
  },
  {
   "cell_type": "code",
   "execution_count": 48,
   "id": "67334f28-fb30-4c8c-ae88-59383c9cdb2b",
   "metadata": {},
   "outputs": [
    {
     "name": "stdout",
     "output_type": "stream",
     "text": [
      "[['khalid', 'masood', 'westminster', 'bridge', 'attack', 'aaron', 'driver', 'isi', 'supporter', 'detonate', 'bomb', 'ontario', 'canada', 'recent', 'example', 'concern'], ['canada'], ['article', 'content', 'bottle', 'water', 'fast', 'disappear', 'northwest', 'walmarts', 'shelf', 'wasnt', 'enough', 'quench', 'whitehot', 'anger', 'prospect', 'water', 'restriction', 'drag', 'july', 'advertisement', 'story', 'continue', 'content', 'reserve', 'subscriber', 'subscribe', 'read', 'late', 'news', 'city', 'across', 'canada']]\n"
     ]
    }
   ],
   "source": [
    "print(texts[:3])"
   ]
  },
  {
   "cell_type": "code",
   "execution_count": 49,
   "id": "0b49b350-3e77-4ac4-be3b-5533b7db41ba",
   "metadata": {},
   "outputs": [
    {
     "name": "stdout",
     "output_type": "stream",
     "text": [
      "20094\n"
     ]
    }
   ],
   "source": [
    "# number of words after preprocessing\n",
    "print(len(texts))"
   ]
  },
  {
   "cell_type": "markdown",
   "id": "e69954cf-039a-417b-82e6-7e5370864661",
   "metadata": {},
   "source": [
    "# Topic Modelling"
   ]
  },
  {
   "cell_type": "code",
   "execution_count": 50,
   "id": "3c44121a-fc1e-4d87-88ec-9bb9c2db6ca3",
   "metadata": {},
   "outputs": [
    {
     "name": "stdout",
     "output_type": "stream",
     "text": [
      "Topic: 0 \n",
      "Words: 0.066*\"canada\" + 0.023*\"bank\" + 0.020*\"part\" + 0.020*\"ontario\" + 0.020*\"zone\" + 0.020*\"forest\" + 0.020*\"southwestern\" + 0.020*\"carolinian\" + 0.020*\"special\" + 0.013*\"group\"\n",
      "Topic: 1 \n",
      "Words: 0.066*\"canada\" + 0.024*\"say\" + 0.014*\"game\" + 0.013*\"environment\" + 0.010*\"article\" + 0.010*\"saturday\" + 0.010*\"south\" + 0.010*\"large\" + 0.010*\"region\" + 0.010*\"hail\"\n",
      "Topic: 2 \n",
      "Words: 0.062*\"canada\" + 0.030*\"content\" + 0.025*\"late\" + 0.025*\"across\" + 0.025*\"news\" + 0.025*\"read\" + 0.025*\"continue\" + 0.025*\"city\" + 0.025*\"subscriber\" + 0.025*\"subscribe\"\n",
      "Topic: 3 \n",
      "Words: 0.049*\"canada\" + 0.036*\"highway\" + 0.023*\"transcanada\" + 0.020*\"cross\" + 0.013*\"operation\" + 0.013*\"company\" + 0.013*\"semitrailer\" + 0.010*\"time\" + 0.010*\"state\" + 0.010*\"united\"\n",
      "Topic: 4 \n",
      "Words: 0.080*\"canada\" + 0.033*\"bank\" + 0.029*\"royal\" + 0.021*\"company\" + 0.021*\"united\" + 0.019*\"state\" + 0.015*\"outperform\" + 0.012*\"restate\" + 0.012*\"give\" + 0.012*\"price\"\n"
     ]
    }
   ],
   "source": [
    "# Create a dictionary and corpus needed for LDA\n",
    "dictionary = corpora.Dictionary(texts)\n",
    "corpus = [dictionary.doc2bow(text) for text in texts]\n",
    "\n",
    "num_topic = 5\n",
    "# Train LDA model\n",
    "init_lda_model = gensim.models.ldamodel.LdaModel(corpus, num_topics=num_topics, id2word=dictionary, passes=15)\n",
    "\n",
    "# Assign topics to documents\n",
    "topics = init_lda_model.get_document_topics(corpus)\n",
    "\n",
    "# Print the topics\n",
    "for idx, topic in init_lda_model.print_topics(-1):\n",
    "    print('Topic: {} \\nWords: {}'.format(idx, topic))"
   ]
  },
  {
   "cell_type": "markdown",
   "id": "359b1b5b-dfa4-4a92-9d13-0e4d2bd0c296",
   "metadata": {},
   "source": [
    "# Model Analysis"
   ]
  },
  {
   "cell_type": "code",
   "execution_count": 51,
   "id": "e2532a63-9e2d-4446-be50-a619d181740a",
   "metadata": {},
   "outputs": [
    {
     "name": "stdout",
     "output_type": "stream",
     "text": [
      "Perplexity: -5.276982665010024\n",
      "Coherence Score of First model: 0.5284617340685551\n"
     ]
    }
   ],
   "source": [
    "from gensim.models.coherencemodel import CoherenceModel\n",
    "\n",
    "# Calculate Perplexity\n",
    "perplexity = init_lda_model.log_perplexity(corpus)\n",
    "print(f'Perplexity: {perplexity}')\n",
    "\n",
    "# Calculate Coherence Score\n",
    "coherence_init_lda = CoherenceModel(model=init_lda_model, texts=texts, dictionary=dictionary, coherence='c_v')\n",
    "coherence_init = coherence_model_lda.get_coherence()\n",
    "print(f'Coherence Score of First model: {coherence_init}')\n"
   ]
  },
  {
   "cell_type": "markdown",
   "id": "7f9155de-7171-48c6-a38f-2e6f4f87ec11",
   "metadata": {},
   "source": [
    "# Model Improvement and Hyperparameter tuning"
   ]
  },
  {
   "cell_type": "code",
   "execution_count": 52,
   "id": "c0cce7aa-a6d0-4624-b2df-b941e87c181e",
   "metadata": {},
   "outputs": [
    {
     "name": "stdout",
     "output_type": "stream",
     "text": [
      "Passes :  10\n",
      "Number of Topics: 5 \tCoherence Score: 0.5284617340685551\n",
      "Best Coherence : 0.5284617340685551\n",
      "Number of Topics: 10 \tCoherence Score: 0.47306028391920485\n",
      "Number of Topics: 15 \tCoherence Score: 0.5038813309842408\n",
      "Passes :  20\n",
      "Number of Topics: 5 \tCoherence Score: 0.5284617340685551\n",
      "Number of Topics: 10 \tCoherence Score: 0.47306028391920485\n",
      "Number of Topics: 15 \tCoherence Score: 0.5034932287067257\n",
      "Passes :  30\n",
      "Number of Topics: 5 \tCoherence Score: 0.5310395715625303\n",
      "Best Coherence : 0.5310395715625303\n",
      "Number of Topics: 10 \tCoherence Score: 0.47306028391920485\n",
      "Number of Topics: 15 \tCoherence Score: 0.5042435822918184\n",
      "Passes :  40\n",
      "Number of Topics: 5 \tCoherence Score: 0.5310395715625302\n",
      "Number of Topics: 10 \tCoherence Score: 0.47306028391920485\n",
      "Number of Topics: 15 \tCoherence Score: 0.5033647692298097\n",
      "Topic: 0 \n",
      "Words: 0.090*\"canada\" + 0.023*\"bank\" + 0.016*\"ontario\" + 0.016*\"royal\" + 0.014*\"special\" + 0.014*\"southwestern\" + 0.014*\"forest\" + 0.014*\"carolinian\" + 0.014*\"zone\" + 0.014*\"part\"\n",
      "Topic: 1 \n",
      "Words: 0.048*\"canada\" + 0.024*\"bank\" + 0.023*\"united\" + 0.018*\"state\" + 0.015*\"free\" + 0.012*\"year\" + 0.012*\"highway\" + 0.012*\"report\" + 0.012*\"engages\" + 0.011*\"solution\"\n",
      "Topic: 2 \n",
      "Words: 0.061*\"canada\" + 0.022*\"say\" + 0.018*\"south\" + 0.013*\"environment\" + 0.013*\"saturday\" + 0.013*\"large\" + 0.013*\"region\" + 0.013*\"local\" + 0.013*\"pea\" + 0.013*\"coast\"\n",
      "Topic: 3 \n",
      "Words: 0.058*\"canada\" + 0.032*\"highway\" + 0.020*\"transcanada\" + 0.012*\"time\" + 0.012*\"cross\" + 0.012*\"work\" + 0.012*\"take\" + 0.008*\"american\" + 0.008*\"call\" + 0.008*\"support\"\n",
      "Topic: 4 \n",
      "Words: 0.060*\"canada\" + 0.018*\"game\" + 0.018*\"bank\" + 0.014*\"2024\" + 0.014*\"royal\" + 0.014*\"june\" + 0.014*\"international\" + 0.009*\"motivate\" + 0.009*\"boost\" + 0.009*\"include\"\n"
     ]
    }
   ],
   "source": [
    "# Importing necessary libraries\n",
    "import gensim\n",
    "from gensim import corpora\n",
    "\n",
    "# Create a dictionary and corpus needed for LDA\n",
    "dictionary = corpora.Dictionary(texts)\n",
    "corpus = [dictionary.doc2bow(text) for text in texts]\n",
    "\n",
    "# Experimenting with different number of topics and passes\n",
    "num_topics = [5, 10, 15]  # Different numbers of topics to try\n",
    "passes = [10,20,30,40]  # Increase the number of passes\n",
    "\n",
    "best_coherence = 0\n",
    "best_model = None\n",
    "best_num_topic = 0\n",
    "for ps in passes:\n",
    "    print(\"Passes : \", ps)\n",
    "    for num in num_topics:\n",
    "        # Train LDA model\n",
    "        lda_model = gensim.models.ldamodel.LdaModel(corpus, num_topics=num, id2word=dictionary, passes=ps, random_state=42)\n",
    "        \n",
    "        # Calculate Coherence Score\n",
    "        coherence_model_lda = CoherenceModel(model=lda_model, texts=texts, dictionary=dictionary, coherence='c_v')\n",
    "        coherence_lda = coherence_model_lda.get_coherence()\n",
    "        \n",
    "        print(f'Number of Topics: {num} \\tCoherence Score: {coherence_lda}')\n",
    "        \n",
    "        if coherence_lda > best_coherence:\n",
    "            print(\"Best Coherence :\",coherence_lda)\n",
    "            best_coherence = coherence_lda\n",
    "            best_model = lda_model\n",
    "            best_num_topic = ps\n",
    "\n",
    "# Print the best model's topics\n",
    "for idx, topic in best_model.print_topics(-1):\n",
    "    print(f'Topic: {idx} \\nWords: {topic}')\n"
   ]
  },
  {
   "cell_type": "code",
   "execution_count": 53,
   "id": "4b0abc72-c6d2-4634-82e2-b3728b606e8f",
   "metadata": {},
   "outputs": [],
   "source": [
    "# Model Comparision"
   ]
  },
  {
   "cell_type": "code",
   "execution_count": 55,
   "id": "6ade669b-0e0d-4093-9669-ac419ba8b4bb",
   "metadata": {},
   "outputs": [
    {
     "name": "stderr",
     "output_type": "stream",
     "text": [
      "No artists with labels found to put in legend.  Note that artists whose label start with an underscore are ignored when legend() is called with no argument.\n"
     ]
    },
    {
     "data": {
      "image/png": "[encoded data removed]",
      "text/plain": [
       "<Figure size 1000x600 with 1 Axes>"
      ]
     },
     "metadata": {},
     "output_type": "display_data"
    }
   ],
   "source": [
    "import pandas as pd\n",
    "import matplotlib.pyplot as plt\n",
    "\n",
    "# Example coherence scores for different numbers of topics\n",
    "# Replace these with your actual coherence scores\n",
    "base_model_coherence = {\n",
    "    'num_topics': [5],\n",
    "    'coherence': [coherence_init_lda]\n",
    "}\n",
    "\n",
    "tuned_model_coherence = {\n",
    "    'num_topics': [best_num_topic],\n",
    "    'coherence': [best_coherence]\n",
    "}\n",
    "\n",
    "# Create DataFrames for the coherence scores\n",
    "base_df = pd.DataFrame(base_model_coherence)\n",
    "tuned_df = pd.DataFrame(tuned_model_coherence)\n",
    "\n",
    "# Merge the DataFrames for plotting\n",
    "coherence_df = base_df.merge(tuned_df, on='num_topics', suffixes=('_base', '_tuned'))\n",
    "\n",
    "# Plot the data using Seaborn\n",
    "sns.set_style(\"whitegrid\")\n",
    "plt.figure(figsize=(10, 6))\n",
    "\n",
    "# Line plot for the base model\n",
    "sns.lineplot(x='num_topics', y='coherence_base', data=coherence_df, marker='o', label='Base Model', color='blue')\n",
    "\n",
    "# Line plot for the tuned model\n",
    "sns.lineplot(x='num_topics', y='coherence_tuned', data=coherence_df, marker='o', label='Tuned Model', color='green')\n",
    "\n",
    "# Add labels and title\n",
    "plt.xlabel('Number of Topics', fontsize=14)\n",
    "plt.ylabel('Coherence Score', fontsize=14)\n",
    "plt.title('Coherence Scores of Base Model and Tuned Model', fontsize=16)\n",
    "plt.legend()\n",
    "\n",
    "# Show the plot\n",
    "plt.show()\n"
   ]
  },
  {
   "cell_type": "markdown",
   "id": "57bcd0b3-7590-4674-88c3-7eb56e2a9b87",
   "metadata": {},
   "source": [
    "# Analysis"
   ]
  },
  {
   "cell_type": "markdown",
   "id": "3b732807-923a-4728-92e3-8d5e61037c8b",
   "metadata": {},
   "source": [
    "# Word Clouds"
   ]
  },
  {
   "cell_type": "code",
   "execution_count": null,
   "id": "6b164ed5-769e-4527-a07f-27371e5d7044",
   "metadata": {},
   "outputs": [],
   "source": [
    "from wordcloud import WordCloud\n",
    "import matplotlib.pyplot as plt\n",
    "\n",
    "# Function to plot word cloud for a given topic\n",
    "def plot_word_cloud(lda_model, topic_id, num_words=10):\n",
    "    # Extract top words and their probabilities for the given topic\n",
    "    topic_words = lda_model.show_topic(topic_id, topn=num_words)\n",
    "    \n",
    "    # Generate word cloud\n",
    "    wordcloud = WordCloud(background_color='white').generate_from_frequencies(dict(topic_words))\n",
    "    \n",
    "    # Plot word cloud\n",
    "    plt.imshow(wordcloud, interpolation='bilinear')\n",
    "    plt.axis('off')\n",
    "    plt.title(f'Topic {topic_id}')\n",
    "    \n",
    "# Plot word clouds for all topics in a 2x3 grid\n",
    "fig, axs = plt.subplots(2, 3, figsize=(15, 10))\n",
    "\n",
    "for i in range(num_topics):\n",
    "    plt.subplot(2, 3, i + 1)\n",
    "    plot_word_cloud(lda_model, topic_id=i)\n",
    "\n",
    "# Remove the 6th subplot (bottom-right corner)\n",
    "fig.delaxes(axs[1, 2])\n",
    "\n",
    "plt.tight_layout()\n",
    "plt.show()"
   ]
  },
  {
   "cell_type": "code",
   "execution_count": null,
   "id": "8e6ad34c-cc6f-4f9f-8537-e700467d162e",
   "metadata": {},
   "outputs": [],
   "source": [
    "num_topics = 5\n",
    "# Aggregate topic distributions\n",
    "topic_distribution = {i: 0 for i in range(num_topics)}\n",
    "for doc_topics in topics:\n",
    "    for topic, prob in doc_topics:\n",
    "        topic_distribution[topic] += prob\n",
    "\n",
    "# Normalize topic distribution\n",
    "total_sum = sum(topic_distribution.values())\n",
    "topic_distribution = {topic: prob / total_sum for topic, prob in topic_distribution.items()}\n",
    "\n",
    "# Sort topics by probability and get top-5\n",
    "top_topics = sorted(topic_distribution.items(), key=lambda x: x[1], reverse=True)[:5]\n",
    "\n",
    "# Extract topic names based on most representative words (replace with your actual logic)\n",
    "topic_names = []\n",
    "for topic_id, _ in top_topics:\n",
    "    topic_words = lda_model.show_topic(topic_id, topn=5)  # Adjust topn based on your preference\n",
    "    topic_name = ', '.join([word for word, _ in topic_words])\n",
    "    topic_names.append(topic_name)\n",
    "\n",
    "# Plotting bar diagram with descriptive topic names\n",
    "plt.figure(figsize=(10, 6))\n",
    "plt.bar(topic_names, [prob for _, prob in top_topics], color='skyblue')\n",
    "plt.xlabel('Topics')\n",
    "plt.ylabel('Probability')\n",
    "plt.title('Top-5 Topics for News')\n",
    "plt.xticks(rotation=15, ha='right')\n",
    "plt.tight_layout()\n",
    "plt.savefig('top_5_topics.png') \n",
    "plt.show()"
   ]
  },
  {
   "cell_type": "markdown",
   "id": "4a7a2aa0-b723-48a2-91d6-08d6823282dc",
   "metadata": {},
   "source": [
    "# Conclusion"
   ]
  },
  {
   "cell_type": "markdown",
   "id": "a7fe0b1d-9e25-495d-a200-2e493226b226",
   "metadata": {},
   "source": [
    "# Future Improvements and Recommendations"
   ]
  }
 ],
 "metadata": {
  "kernelspec": {
   "display_name": "Python 3 (ipykernel)",
   "language": "python",
   "name": "python3"
  },
  "language_info": {
   "codemirror_mode": {
    "name": "ipython",
    "version": 3
   },
   "file_extension": ".py",
   "mimetype": "text/x-python",
   "name": "python",
   "nbconvert_exporter": "python",
   "pygments_lexer": "ipython3",
   "version": "3.11.7"
  }
 },
 "nbformat": 4,
 "nbformat_minor": 5
}
