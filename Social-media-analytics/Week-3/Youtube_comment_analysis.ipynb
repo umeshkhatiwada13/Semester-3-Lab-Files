{
 "cells": [
  {
   "cell_type": "code",
   "execution_count": 56,
   "id": "9327730c-7205-4568-86ba-17b886283e81",
   "metadata": {},
   "outputs": [],
   "source": [
    "import pandas as pd\n",
    "import regex as re"
   ]
  },
  {
   "cell_type": "code",
   "execution_count": 57,
   "id": "894e522c-e820-479b-a673-ddd10cad4a87",
   "metadata": {},
   "outputs": [],
   "source": [
    "df = pd.DataFrame(columns=['id','View','Like','Dislike','Share','Comment'])"
   ]
  },
  {
   "cell_type": "code",
   "execution_count": 58,
   "id": "d46ff1f8-a402-413f-ba48-2f44865aef46",
   "metadata": {},
   "outputs": [
    {
     "data": {
      "text/html": [
       "<div>\n",
       "<style scoped>\n",
       "    .dataframe tbody tr th:only-of-type {\n",
       "        vertical-align: middle;\n",
       "    }\n",
       "\n",
       "    .dataframe tbody tr th {\n",
       "        vertical-align: top;\n",
       "    }\n",
       "\n",
       "    .dataframe thead th {\n",
       "        text-align: right;\n",
       "    }\n",
       "</style>\n",
       "<table border=\"1\" class=\"dataframe\">\n",
       "  <thead>\n",
       "    <tr style=\"text-align: right;\">\n",
       "      <th></th>\n",
       "      <th>id</th>\n",
       "      <th>View</th>\n",
       "      <th>Like</th>\n",
       "      <th>Dislike</th>\n",
       "      <th>Share</th>\n",
       "      <th>Comment</th>\n",
       "    </tr>\n",
       "  </thead>\n",
       "  <tbody>\n",
       "  </tbody>\n",
       "</table>\n",
       "</div>"
      ],
      "text/plain": [
       "Empty DataFrame\n",
       "Columns: [id, View, Like, Dislike, Share, Comment]\n",
       "Index: []"
      ]
     },
     "execution_count": 58,
     "metadata": {},
     "output_type": "execute_result"
    }
   ],
   "source": [
    "df.head()"
   ]
  },
  {
   "cell_type": "code",
   "execution_count": 67,
   "id": "56e7952f-a458-4965-be77-b1c57fe47e80",
   "metadata": {},
   "outputs": [],
   "source": [
    "import pandas as pd\n",
    "import re\n",
    "\n",
    "# Initialize an empty DataFrame\n",
    "df = pd.DataFrame(columns=['Id', 'View', 'Like', 'Dislike', 'Share', 'Comment'])\n",
    "\n",
    "# Read the content of the text file\n",
    "with open('YouTubeTrailerComments.txt', 'r') as file:\n",
    "    lines = file.read()\n",
    "    segments = re.split(r'(?=MovieID::::)', lines.strip())\n",
    "    for s in segments:\n",
    "        if s.strip():  \n",
    "            match = re.search(r'(\\d+ \\d+ \\d+ \\d+ \\d+)', s)\n",
    "            if match:\n",
    "                # dictionary to hold numbers\n",
    "                youtube_data = {}\n",
    "                # search and extract movie id from text\n",
    "                movie_id = re.search(r'(?=MovieID::::(\\d+))', s).group(1)\n",
    "                youtube_data['Id'] = movie_id\n",
    "                # split the statistics data and convert to list \n",
    "                statistics = match.group(1).split()\n",
    "                youtube_data['View'] = statistics[0]\n",
    "                youtube_data['Like'] = statistics[1]\n",
    "                youtube_data['Dislike'] = statistics[2]\n",
    "                youtube_data['Share'] = statistics[3]\n",
    "                youtube_data['Comment'] = statistics[4]\n",
    "                # append row of data to the dataframe\n",
    "                df = df._append(youtube_data, ignore_index=True)\n"
   ]
  },
  {
   "cell_type": "code",
   "execution_count": 74,
   "id": "429a4a35-c48b-4d24-be20-8631e33683d6",
   "metadata": {},
   "outputs": [
    {
     "data": {
      "text/html": [
       "<div>\n",
       "<style scoped>\n",
       "    .dataframe tbody tr th:only-of-type {\n",
       "        vertical-align: middle;\n",
       "    }\n",
       "\n",
       "    .dataframe tbody tr th {\n",
       "        vertical-align: top;\n",
       "    }\n",
       "\n",
       "    .dataframe thead th {\n",
       "        text-align: right;\n",
       "    }\n",
       "</style>\n",
       "<table border=\"1\" class=\"dataframe\">\n",
       "  <thead>\n",
       "    <tr style=\"text-align: right;\">\n",
       "      <th></th>\n",
       "      <th>Id</th>\n",
       "      <th>View</th>\n",
       "      <th>Like</th>\n",
       "      <th>Dislike</th>\n",
       "      <th>Share</th>\n",
       "      <th>Comment</th>\n",
       "    </tr>\n",
       "  </thead>\n",
       "  <tbody>\n",
       "    <tr>\n",
       "      <th>0</th>\n",
       "      <td>1</td>\n",
       "      <td>128238</td>\n",
       "      <td>170</td>\n",
       "      <td>7</td>\n",
       "      <td>0</td>\n",
       "      <td>7</td>\n",
       "    </tr>\n",
       "    <tr>\n",
       "      <th>1</th>\n",
       "      <td>2</td>\n",
       "      <td>155561</td>\n",
       "      <td>135</td>\n",
       "      <td>14</td>\n",
       "      <td>0</td>\n",
       "      <td>74</td>\n",
       "    </tr>\n",
       "    <tr>\n",
       "      <th>2</th>\n",
       "      <td>3</td>\n",
       "      <td>2532</td>\n",
       "      <td>7</td>\n",
       "      <td>2</td>\n",
       "      <td>0</td>\n",
       "      <td>1</td>\n",
       "    </tr>\n",
       "    <tr>\n",
       "      <th>3</th>\n",
       "      <td>4</td>\n",
       "      <td>6827</td>\n",
       "      <td>9</td>\n",
       "      <td>1</td>\n",
       "      <td>0</td>\n",
       "      <td>0</td>\n",
       "    </tr>\n",
       "    <tr>\n",
       "      <th>4</th>\n",
       "      <td>5</td>\n",
       "      <td>330807</td>\n",
       "      <td>374</td>\n",
       "      <td>16</td>\n",
       "      <td>0</td>\n",
       "      <td>121</td>\n",
       "    </tr>\n",
       "  </tbody>\n",
       "</table>\n",
       "</div>"
      ],
      "text/plain": [
       "  Id    View Like Dislike Share Comment\n",
       "0  1  128238  170       7     0       7\n",
       "1  2  155561  135      14     0      74\n",
       "2  3    2532    7       2     0       1\n",
       "3  4    6827    9       1     0       0\n",
       "4  5  330807  374      16     0     121"
      ]
     },
     "execution_count": 74,
     "metadata": {},
     "output_type": "execute_result"
    }
   ],
   "source": [
    "df.head()"
   ]
  },
  {
   "cell_type": "code",
   "execution_count": 75,
   "id": "954f0a28-9f07-476d-8b99-ad1297e29813",
   "metadata": {},
   "outputs": [
    {
     "data": {
      "text/html": [
       "<div>\n",
       "<style scoped>\n",
       "    .dataframe tbody tr th:only-of-type {\n",
       "        vertical-align: middle;\n",
       "    }\n",
       "\n",
       "    .dataframe tbody tr th {\n",
       "        vertical-align: top;\n",
       "    }\n",
       "\n",
       "    .dataframe thead th {\n",
       "        text-align: right;\n",
       "    }\n",
       "</style>\n",
       "<table border=\"1\" class=\"dataframe\">\n",
       "  <thead>\n",
       "    <tr style=\"text-align: right;\">\n",
       "      <th></th>\n",
       "      <th>Id</th>\n",
       "      <th>View</th>\n",
       "      <th>Like</th>\n",
       "      <th>Dislike</th>\n",
       "      <th>Share</th>\n",
       "      <th>Comment</th>\n",
       "    </tr>\n",
       "  </thead>\n",
       "  <tbody>\n",
       "    <tr>\n",
       "      <th>978</th>\n",
       "      <td>996</td>\n",
       "      <td>252661</td>\n",
       "      <td>1080</td>\n",
       "      <td>32</td>\n",
       "      <td>0</td>\n",
       "      <td>111</td>\n",
       "    </tr>\n",
       "    <tr>\n",
       "      <th>979</th>\n",
       "      <td>997</td>\n",
       "      <td>5887</td>\n",
       "      <td>19</td>\n",
       "      <td>2</td>\n",
       "      <td>0</td>\n",
       "      <td>0</td>\n",
       "    </tr>\n",
       "    <tr>\n",
       "      <th>980</th>\n",
       "      <td>998</td>\n",
       "      <td>5755</td>\n",
       "      <td>10</td>\n",
       "      <td>1</td>\n",
       "      <td>0</td>\n",
       "      <td>0</td>\n",
       "    </tr>\n",
       "    <tr>\n",
       "      <th>981</th>\n",
       "      <td>999</td>\n",
       "      <td>6635</td>\n",
       "      <td>19</td>\n",
       "      <td>1</td>\n",
       "      <td>0</td>\n",
       "      <td>0</td>\n",
       "    </tr>\n",
       "    <tr>\n",
       "      <th>982</th>\n",
       "      <td>1000</td>\n",
       "      <td>27204</td>\n",
       "      <td>10</td>\n",
       "      <td>4</td>\n",
       "      <td>0</td>\n",
       "      <td>2</td>\n",
       "    </tr>\n",
       "  </tbody>\n",
       "</table>\n",
       "</div>"
      ],
      "text/plain": [
       "       Id    View  Like Dislike Share Comment\n",
       "978   996  252661  1080      32     0     111\n",
       "979   997    5887    19       2     0       0\n",
       "980   998    5755    10       1     0       0\n",
       "981   999    6635    19       1     0       0\n",
       "982  1000   27204    10       4     0       2"
      ]
     },
     "execution_count": 75,
     "metadata": {},
     "output_type": "execute_result"
    }
   ],
   "source": [
    "df.tail()"
   ]
  },
  {
   "cell_type": "code",
   "execution_count": 72,
   "id": "aef1644f-195d-432a-9ec7-a8798fb1f057",
   "metadata": {},
   "outputs": [
    {
     "data": {
      "text/plain": [
       "array(['0'], dtype=object)"
      ]
     },
     "execution_count": 72,
     "metadata": {},
     "output_type": "execute_result"
    }
   ],
   "source": [
    "df['Share'].unique()"
   ]
  },
  {
   "cell_type": "code",
   "execution_count": 78,
   "id": "98d41244-d40c-4e3b-8fc9-81802816f3cf",
   "metadata": {},
   "outputs": [],
   "source": [
    "# looks like share column has 0 value only. we can drop it as it doesnot provides any insight\n",
    "df.drop(columns = ['Share'], inplace= True)"
   ]
  }
 ],
 "metadata": {
  "kernelspec": {
   "display_name": "Python 3 (ipykernel)",
   "language": "python",
   "name": "python3"
  },
  "language_info": {
   "codemirror_mode": {
    "name": "ipython",
    "version": 3
   },
   "file_extension": ".py",
   "mimetype": "text/x-python",
   "name": "python",
   "nbconvert_exporter": "python",
   "pygments_lexer": "ipython3",
   "version": "3.11.7"
  }
 },
 "nbformat": 4,
 "nbformat_minor": 5
}
